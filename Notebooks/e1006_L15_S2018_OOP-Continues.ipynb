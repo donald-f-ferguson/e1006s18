{
 "cells": [
  {
   "cell_type": "markdown",
   "metadata": {},
   "source": [
    "<h1 style=\"display:none;\">\n",
    "<h1 style=\"display:none;\">\n",
    "<h1 style=\"display:none;\">\n",
    "<h1 style=\"display:none;\">\n",
    "<h1 style=\"display:none;\">\n",
    "<h1 style=\"display:none;\">\n",
    "<h1 style=\"display:none;\">\n",
    "<h1 style=\"display:none;\">\n",
    "<h1 style=\"display:none;\">\n",
    "<h1 style=\"display:none;\">\n",
    "<h1 style=\"display:none;\">\n",
    "<h1 style=\"display:none;\">\n",
    "<h1 style=\"display:none;\">\n",
    "<h1 style=\"display:none;\">\n",
    "\n",
    "\n",
    "# Introduction to Computing for Engineers and Computer Scientists<BR><BR>Continuing with OO"
   ]
  },
  {
   "cell_type": "markdown",
   "metadata": {},
   "source": [
    "## Questions, Discussion\n",
    "\n",
    "### Piazza\n",
    "\n",
    "### From Class"
   ]
  },
  {
   "cell_type": "markdown",
   "metadata": {},
   "source": [
    "## Continuing with Textbook\n",
    "<img src=\"../images/chapter11/Slide27.jpg\">\n",
    "<img src=\"../images/chapter11/Slide28.jpg\">\n",
    "<img src=\"../images/chapter11/Slide29.jpg\">\n",
    "<img src=\"../images/chapter11/Slide30.jpg\">"
   ]
  },
  {
   "cell_type": "markdown",
   "metadata": {},
   "source": [
    "<img src=\"../images/chapter11/Slide31.jpg\">\n",
    "<img src=\"../images/chapter11/Slide32.jpg\">\n",
    "<img src=\"../images/chapter11/Slide33.jpg\">\n",
    "<img src=\"../images/chapter11/Slide34.jpg\">\n",
    "<img src=\"../images/chapter11/Slide35.jpg\">"
   ]
  },
  {
   "cell_type": "markdown",
   "metadata": {},
   "source": [
    "<img src=\"../images/chapter11/Slide36.jpg\">"
   ]
  },
  {
   "cell_type": "code",
   "execution_count": 3,
   "metadata": {},
   "outputs": [
    {
     "name": "stdout",
     "output_type": "stream",
     "text": [
      "output of dir(my_instance):\n",
      "['__class__', '__delattr__', '__dict__', '__dir__', '__doc__', '__eq__', '__format__', '__ge__', '__getattribute__', '__gt__', '__hash__', '__init__', '__init_subclass__', '__le__', '__lt__', '__module__', '__ne__', '__new__', '__reduce__', '__reduce_ex__', '__repr__', '__setattr__', '__sizeof__', '__str__', '__subclasshook__', '__weakref__', 'class_attribute', 'my_method']\n",
      "\n",
      "hello world\n",
      "The object that called this method is: <__main__.MyClass object at 0x1097bd588>\n",
      "Instance has new attribute with value: world\n",
      "output of dir(my_instance):\n",
      "['__class__', '__delattr__', '__dict__', '__dir__', '__doc__', '__eq__', '__format__', '__ge__', '__getattribute__', '__gt__', '__hash__', '__init__', '__init_subclass__', '__le__', '__lt__', '__module__', '__ne__', '__new__', '__reduce__', '__reduce_ex__', '__repr__', '__setattr__', '__sizeof__', '__str__', '__subclasshook__', '__weakref__', 'class_attribute', 'instance_attribute', 'my_method']\n"
     ]
    }
   ],
   "source": [
    "# Copyright 2017, 2013, 2011 Pearson Education, Inc., W.F. Punch & R.J.Enbody\n",
    "\n",
    "class MyClass (object):\n",
    "    class_attribute = 'world'\n",
    "\n",
    "    def my_method (self, param1):\n",
    "        print('\\nhello {}'.format(param1))\n",
    "        print('The object that called this method is: {}'.\\\n",
    "              format(str(self)))\n",
    "        self.instance_attribute = param1\n",
    "\n",
    "\n",
    "my_instance = MyClass()\n",
    "print(\"output of dir(my_instance):\")\n",
    "dir1 = dir(my_instance)\n",
    "print(dir(my_instance))\n",
    "my_instance.my_method('world')            # adds the instance_attribute\n",
    "print(\"Instance has new attribute with value: {}\".\\\n",
    "      format(my_instance.instance_attribute))\n",
    "print(\"output of dir(my_instance):\")\n",
    "dir2 = dir(my_instance)\n",
    "print(dir(my_instance))\n",
    "\n"
   ]
  },
  {
   "cell_type": "markdown",
   "metadata": {},
   "source": [
    "- That printout was not helpful."
   ]
  },
  {
   "cell_type": "code",
   "execution_count": 6,
   "metadata": {},
   "outputs": [
    {
     "name": "stdout",
     "output_type": "stream",
     "text": [
      "\n",
      "\n",
      "That examples was a little confusing.\n",
      "The difference in the directory before/after are:  {'instance_attribute'}\n"
     ]
    }
   ],
   "source": [
    "print(\"\\n\\nThat examples was a little confusing.\")\n",
    "c1 = set(dir1)\n",
    "c2 = set(dir2)\n",
    "\n",
    "print(\"The difference in the directory before/after are: \", c2-c1)"
   ]
  },
  {
   "cell_type": "markdown",
   "metadata": {},
   "source": [
    "- You can also do some interesting things."
   ]
  },
  {
   "cell_type": "code",
   "execution_count": 10,
   "metadata": {},
   "outputs": [
    {
     "name": "stdout",
     "output_type": "stream",
     "text": [
      "The values of the new attributes are: \n",
      "{'instance_attribute': 'world'}\n"
     ]
    }
   ],
   "source": [
    "delta = list(c2-c1)\n",
    "print(\"The values of the new attributes are: \")\n",
    "v = dict([(x, getattr(my_instance,x)) for x in delta])\n",
    "print(v)"
   ]
  },
  {
   "cell_type": "markdown",
   "metadata": {},
   "source": [
    "<img src=\"../images/chapter11/Slide38.jpg\">\n",
    "<img src=\"../images/chapter11/Slide39.jpg\">\n",
    "<img src=\"../images/chapter11/Slide40.jpg\">"
   ]
  },
  {
   "cell_type": "markdown",
   "metadata": {},
   "source": [
    "<img src=\"../images/chapter11/Slide41.jpg\">\n",
    "<img src=\"../images/chapter11/Slide42.jpg\">\n",
    "<img src=\"../images/chapter11/Slide43.jpg\">"
   ]
  },
  {
   "cell_type": "markdown",
   "metadata": {},
   "source": [
    "### Jumping Ahead/Preparing for HW 5"
   ]
  },
  {
   "cell_type": "markdown",
   "metadata": {},
   "source": [
    "#### Operator Overloading\n",
    "\n",
    "- One of the really cool features of Python is __operator overloading,__ which is extremely useful for scientific and engineering applications. Much of Pandas and Numpy would be awkward and different without this capability.\n",
    "\n",
    "<img src=\"../images/chapter12/Slide14.jpg\">\n",
    "<img src=\"../images/chapter12/Slide15.jpg\">\n",
    "<img src=\"../images/chapter12/Slide16.jpg\">\n",
    "<img src=\"../images/chapter12/Slide17.jpg\">\n",
    "<img src=\"../images/chapter12/Slide18.jpg\">\n",
    "<img src=\"../images/chapter12/Slide19.jpg\">"
   ]
  },
  {
   "cell_type": "markdown",
   "metadata": {},
   "source": [
    "#### Abstract Types\n",
    "\n",
    "- We will see that there are libraries that introduce Color as a class.\n",
    "\n",
    "\n",
    "- We are going to do a simple example to understand the concept of an abstract type as a class.\n",
    "\n",
    "\n",
    "- There is a simple table that defines ```color1 + color2```\n",
    "\n",
    "| <img src=\"../images/rgb.png\"> |\n",
    "| :---: |\n",
    "| __Red, Green, Blue, Black__ |\n",
    "\n",
    "\n"
   ]
  },
  {
   "cell_type": "code",
   "execution_count": 11,
   "metadata": {},
   "outputs": [],
   "source": [
    "class MyColor(object):\n",
    "\n",
    "    __rgb = (0, 0, 0)\n",
    "\n",
    "    def __init__(self, red=0, green=0, blue=0):\n",
    "        self.__rgb = (red, green, blue)\n",
    "\n",
    "    def __get_color_map_names(self):\n",
    "        r = 0\n",
    "        b = 0\n",
    "        g = 0\n",
    "\n",
    "        if self.__rgb[0] == 1:\n",
    "            r = \"red\"\n",
    "        if self.__rgb[1] == 1:\n",
    "            g = \"green\"\n",
    "        if self.__rgb[2] == 1:\n",
    "            b = \"blue\"\n",
    "\n",
    "        d = (r, g, b)\n",
    "        return d\n",
    "\n",
    "    def __str__(self):\n",
    "        result = \"Color: {} = {}\".format(self.__get_color_map_names(), self.__get_color_name())\n",
    "        return result\n",
    "\n",
    "    def __get_color_name(self):\n",
    "\n",
    "        c = self.__rgb\n",
    "\n",
    "        if c == (0,0,0):\n",
    "            result = \"black\"\n",
    "        elif c == (1, 0, 0):\n",
    "            result = \"red\"\n",
    "        elif c == (0,1,0):\n",
    "            result = \"green\"\n",
    "        elif c == (0,0,1):\n",
    "            result = \"blue\"\n",
    "        elif c == (1,1,0):\n",
    "            result = \"yellow\"\n",
    "        elif c == (1, 0, 1):\n",
    "            result = \"magenta\"\n",
    "        elif c == (0,1,1):\n",
    "            result = \"cyan\"\n",
    "        elif c == (1,1,1):\n",
    "            result = \"white\"\n",
    "        else:\n",
    "            result = \"UNDEFINED\"\n",
    "\n",
    "        return result\n",
    "\n",
    "    def __add__(self, other):\n",
    "        temp = list(self.__rgb)\n",
    "        result = [0,0,0]\n",
    "        for i in range(0, len(self.__rgb)):\n",
    "            temp = self.__rgb[i] + other.__rgb[i]\n",
    "            if temp > 1:\n",
    "                temp = 1\n",
    "            result[i] = temp\n",
    "\n",
    "        result = tuple(result)\n",
    "        result = MyColor(result[0], result[1], result[2])\n",
    "        return result\n",
    "\n",
    "    def __sub__(self, other):\n",
    "        temp = list(self.__rgb)\n",
    "        result = [0, 0, 0]\n",
    "        for i in range(0, len(self.__rgb)):\n",
    "            temp = self.__rgb[i] - other.__rgb[i]\n",
    "            if temp < 0:\n",
    "                temp = 0\n",
    "            result[i] = temp\n",
    "\n",
    "        result = tuple(result)\n",
    "        result = MyColor(result[0], result[1], result[2])\n",
    "        return result\n",
    "\n",
    "    def __eq__(self, other):\n",
    "        result = self.__rgb == other.__rgb\n",
    "        return result\n"
   ]
  },
  {
   "cell_type": "code",
   "execution_count": 12,
   "metadata": {},
   "outputs": [
    {
     "name": "stdout",
     "output_type": "stream",
     "text": [
      "Color: ('red', 0, 0) = red\n",
      "Color: (0, 'green', 0) = green\n",
      "Color: ('red', 'green', 0) = yellow\n",
      "(Color: ('red', 'green', 0) = yellow) - (Color: ('red', 0, 0) = red) = (Color: (0, 'green', 0) = green)\n",
      "c1 == (c3-c2) is  True\n"
     ]
    }
   ],
   "source": [
    "c1 = MyColor(1,0,0)\n",
    "print(c1)\n",
    "\n",
    "c2 = MyColor(0,1,0)\n",
    "print(c2)\n",
    "\n",
    "c3 = c1 + c2\n",
    "print(c3)\n",
    "\n",
    "print(\"(\" + str(c3) + \") - (\" + str(c1) + \") = (\" + str(c3-c1) + \")\")\n",
    "\n",
    "print(\"c1 == (c3-c2) is \", (c1 == (c3-c2)))"
   ]
  },
  {
   "cell_type": "markdown",
   "metadata": {},
   "source": [
    "### Homework 5: Abstract Types and Operators\n",
    "\n",
    "\"In mathematics, a group is an algebraic structure consisting of a set of elements equipped with an operation that combines any two elements to form a third element and that satisfies four conditions called the group axioms, namely closure, associativity, identity and invertibility. \n",
    "\n",
    "A group is a set, G, together with an operation • (called the group law of G) that combines any two elements a and b to form another element, denoted a • b or ab. To qualify as a group, the set and operation, (G, •), must satisfy four requirements known as the group axioms:\n",
    "- Closure: For all a, b in G, the result of the operation, a • b, is also in G.b[›]\n",
    "- Associativity: For all a, b and c in G, (a • b) • c = a • (b • c).\n",
    "- Identity element: There exists an element e in G such that, for every element a in G, the equation e • a = a • e = a holds. Such an element is unique (see below), and thus one speaks of the identity element.\n",
    "- Inverse element: For each a in G, there exists an element b in G, commonly denoted $a^{−1}$ (or −a, if the operation is denoted \"+\"), such that a • b = b • a = e, where e is the identity element.\n",
    "\n",
    "A group is called _finite_ if it has a finite number of elements. The number of elements is called the order of the group.\"\n",
    "(https://en.wikipedia.org/wiki/Group_(mathematics)#Finite_groups)"
   ]
  },
  {
   "cell_type": "markdown",
   "metadata": {},
   "source": [
    "\"A Cayley table, after the 19th century British mathematician Arthur Cayley, describes the structure of a finite group by arranging all the possible products of all the group's elements in a square table reminiscent of an addition or multiplication table.\" (https://en.wikipedia.org/wiki/Cayley_table)\n",
    "\n",
    "A common example of a finite group is _modular arithmetic._ For modulo-5,\n",
    "- The symbols group elements are $ G = \\{0, 1, 2, 3, 4\\}$\n",
    "- If $a,b \\in G,$ and $+$ is normal integer addition. \n",
    "    - $a \\bullet b = a + b,$ if  $(a+b) \\lt 5.$\n",
    "    - $a \\bullet b = a + b - 5,$ if  $(a+b) \\ge 5.$\n",
    "- ```%``` is the Python operator for modular arithmetic."
   ]
  },
  {
   "cell_type": "code",
   "execution_count": 13,
   "metadata": {},
   "outputs": [
    {
     "data": {
      "text/plain": [
       "2"
      ]
     },
     "execution_count": 13,
     "metadata": {},
     "output_type": "execute_result"
    }
   ],
   "source": [
    "(3+4)%5"
   ]
  },
  {
   "cell_type": "markdown",
   "metadata": {},
   "source": [
    "- The Cayley Table for the set is:\n",
    "\n",
    "| <img src=\"../images/cayley5.jpeg\"> |\n",
    "| :--: |\n",
    "| __Cayley Table for Addition Mod 5__ |"
   ]
  },
  {
   "cell_type": "markdown",
   "metadata": {},
   "source": [
    "__HW 5: Part 1__\n",
    "\n",
    "- Implement a class\" ```BaseCayleyGroup.```\n",
    "    - The class supports the operations ```==``` and ```*.```\n",
    "    - The __init__ method prevents an instance of this class from being directly created.\n",
    "\n",
    "\n",
    "- You will implement two subclasses:\n",
    "    - CayleyMod5, which is the modular arithmetic class above. Remember, the algebraic operator is ```*``` but the implementation is modular addition. \n",
    "    - CayleyOneAndI, which is multiplication on the set $\\{1, i, -1, -i\\}.$ The Cayley Table is below.\n",
    "    \n",
    "| <img src=\"../images/CayleyOneAndI.jpeg\"> |\n",
    "| :---: |\n",
    "| __Cayley Table for 1,-1,i,-i__ |\n",
    "\n",
    "- The two subclasses will __inherit__ the implementation of ```==``` and ```*``` from ```BaseCayleyGroup.``` \n",
    "\n",
    "\n",
    "- The subclasses ```CayleyMod5``` and ```CayleyOneAndI``` will define the Cayley Table and valid symbols.\n",
    "\n",
    "\n",
    "- __Note:__ There is a slightly better way to handle the \"abstractness\" of ```BaseCayleyGroup``` but we have not yet covered the material."
   ]
  },
  {
   "cell_type": "markdown",
   "metadata": {},
   "source": [
    "```\n",
    "class CayleyMod5(BaseCayleyGroup):\n",
    "\n",
    "    __symbols = {0, 1, 2, 3, 4}\n",
    "    __table = None\n",
    "\n",
    "    def __init__(self, v):\n",
    "        value = v % 5\n",
    "        BaseCayleyGroup.__init__(self, value)\n",
    "\n",
    "        if CayleyMod5.__table is None:\n",
    "            symbols = CayleyMod5.__symbols\n",
    "            temp = [(k, v) for k in symbols for v in symbols]\n",
    "            CayleyMod5.__table = dict({((i, j), (i + j) % 5) for i, j in temp})\n",
    "            BaseCayleyGroup.__init__(self, value)\n",
    "\n",
    "    @classmethod\n",
    "    def get_cayley_table(cls):\n",
    "        return CayleyMod5.__table\n",
    "\n",
    "\n",
    "class CayleyOneAndI(BaseCayleyGroup):\n",
    "\n",
    "    __symbols = {1+0j, -1-0j, 0+1j, -0-1j}\n",
    "    __table = None\n",
    "\n",
    "    def __init__(self, v):\n",
    "        value = v\n",
    "\n",
    "        if CayleyOneAndI.__table is None:\n",
    "            temp = [(k, v) for k in CayleyOneAndI.__symbols for v in CayleyOneAndI.__symbols]\n",
    "            CayleyOneAndI.__table = dict({((i, j), i*j) for i, j in temp})\n",
    "\n",
    "        BaseCayleyGroup.__init__(self, value)\n",
    "        \n",
    "   \n",
    "    @classmethod\n",
    "    def get_cayley_table(cls):\n",
    "        return CayleyOneAndI.__table\n",
    "```"
   ]
  },
  {
   "cell_type": "markdown",
   "metadata": {},
   "source": [
    "```\n",
    "f1 = CayleyMod5(2)\n",
    "f2 = CayleyMod5(3)\n",
    "f3 = CayleyMod5(11)\n",
    "\n",
    "\n",
    "print(f1 * f2)\n",
    "print(f3)\n",
    "print(f3 * f2)\n",
    "\n",
    "x = CayleyOneAndI(-1-0j)\n",
    "y = CayleyOneAndI(-1-0j)\n",
    "print(x*y)\n",
    "z = CayleyOneAndI(0+1j)\n",
    "print(x*z)\n",
    "print(z*z)\n",
    "```"
   ]
  },
  {
   "cell_type": "markdown",
   "metadata": {},
   "source": [
    "#### H5 Part 2:  Abstract Matrix\n",
    "\n",
    "\"In mathematics, a matrix (plural: matrices) is a rectangular array of numbers, symbols, or expressions, arranged in rows and columns.\n",
    "\n",
    "... ...\n",
    "\n",
    "The sum A+B of two m-by-n matrices A and B is calculated entrywise: <br>\n",
    "$(A + B)_{i,j} = A_{i,j} + B_{i,j},$ where $1 ≤ i ≤ m$ and $1 ≤ j ≤ n.$\" <br>\n",
    "(https://en.wikipedia.org/wiki/Matrix_(mathematics))\n",
    "\n",
    "Two matrices are _equal_ if <br>\n",
    "$A_{ij} == B_{ij}, \\forall i,j$ where $1 ≤ i ≤ m$ and $1 ≤ j ≤ n.$\" <br>\n",
    "\n",
    "Implement two classes:\n",
    "- BaseMatrix, which stores the elements in an array.\n",
    "- SparseMatrix, which only stores the non-empty/non-zero values in a dictionary.\n",
    "\n",
    "- The BaseMatrix must implement\n",
    "    - A constructor that takes a type, and the matrix sizes.\n",
    "    - ```get(i,j),``` which returns the ```i,j``` value.\n",
    "    - ```set(i,j,v),``` which sets the ```i,j```\n",
    "    - ```==``` if the two matrices are equal.\n",
    "    - ```+``` that adds the two matrices.\n",
    "    \n",
    "- SparseMatrix must ONLY implement ```get()``` and ```set().``` All other functions must come from BaseMatrix."
   ]
  },
  {
   "cell_type": "markdown",
   "metadata": {},
   "source": [
    "Sample Execution:\n",
    "\n",
    "```\n",
    "tt = MySparseMatrix(int, 2, 2)\n",
    "tt.set(0,0,11)\n",
    "tt.set(0,1,11)\n",
    "tt.set(1,0,11)\n",
    "print(tt)\n",
    "\n",
    "t1 = MyMatrix(int, 2, 2)\n",
    "t1.set(0,1,-11)\n",
    "t1.set(1,1,11)\n",
    "print(t1)\n",
    "\n",
    "t3 = MyMatrix(float, 3, 3)\n",
    "t4 = MyMatrix(float, 3,3)\n",
    "print(t3 == t4)\n",
    "\n",
    "\n",
    "print(tt + t1)\n",
    "\n",
    "t3 = MyMatrix(float, 3, 3)\n",
    "t4 = MySparseMatrix(float, 3,3)\n",
    "print(t3 == t4)\n",
    "print(t3 is t4)\n",
    "\n",
    "t3.set(0,0,3.4)\n",
    "t3.set(1,1,4.0)\n",
    "print(t3)\n",
    "\n",
    "t4.set(1,1,11.0)\n",
    "print(t3+t4)\n",
    "```\n",
    "produces\n",
    "\n",
    "```\n",
    "2 X 2 matrix of type <class 'int'>:\n",
    "11,11\n",
    "11,0\n",
    "\n",
    "2 X 2 matrix of type <class 'int'>:\n",
    "0,0\n",
    "-11,11\n",
    "\n",
    "True\n",
    "2 X 2 matrix of type <class 'int'>:\n",
    "11,0\n",
    "11,11\n",
    "\n",
    "True\n",
    "False\n",
    "3 X 3 matrix of type <class 'float'>:\n",
    "3.4,0.0,0.0\n",
    "0.0,4.0,0.0\n",
    "0.0,0.0,0.0\n",
    "\n",
    "3 X 3 matrix of type <class 'float'>:\n",
    "3.4,0.0,0.0\n",
    "0.0,15.0,0.0\n",
    "0.0,0.0,0.0\n",
    "```"
   ]
  },
  {
   "cell_type": "markdown",
   "metadata": {},
   "source": [
    "#### HW5 Summary\n",
    "\n",
    "- I will post the code from lecture, test cases and execution on Piazza.\n",
    "\n",
    "\n",
    "- Will be due 19-Apr-2018.\n",
    "\n",
    "\n",
    "- If you THINK, this is a very, very short homework.\n",
    "    - My ```BaseCayleyClass``` is only 8 statements. There is one 4 statement method and 4 one statement methods.\n",
    "    - My ```MyMatrix``` and ```MySparseMatrix``` combined is less then 35 statements.\n",
    "    \n",
    "    \n",
    "- This assignment is an examplar of teaching you to apply computing versus learning Python in an online course.\n",
    "\n",
    "\n",
    "- Also, Bwah Hah Hah!\n",
    "\n",
    "<img src=\"../images/mindblown.jpeg\">\n",
    "\n"
   ]
  },
  {
   "cell_type": "code",
   "execution_count": null,
   "metadata": {},
   "outputs": [],
   "source": []
  }
 ],
 "metadata": {
  "kernelspec": {
   "display_name": "Python 3",
   "language": "python",
   "name": "python3"
  },
  "language_info": {
   "codemirror_mode": {
    "name": "ipython",
    "version": 3
   },
   "file_extension": ".py",
   "mimetype": "text/x-python",
   "name": "python",
   "nbconvert_exporter": "python",
   "pygments_lexer": "ipython3",
   "version": "3.6.3"
  },
  "toc": {
   "nav_menu": {},
   "number_sections": true,
   "sideBar": true,
   "skip_h1_title": false,
   "title_cell": "Table of Contents",
   "title_sidebar": "Contents",
   "toc_cell": false,
   "toc_position": {},
   "toc_section_display": true,
   "toc_window_display": false
  }
 },
 "nbformat": 4,
 "nbformat_minor": 2
}
