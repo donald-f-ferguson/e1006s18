{
 "cells": [
  {
   "cell_type": "code",
   "execution_count": 14,
   "metadata": {},
   "outputs": [
    {
     "data": {
      "text/html": [
       "<style>\n",
       ".example1 {\n",
       " height: 50px;\t\n",
       " overflow: hidden;\n",
       " position: relative;\n",
       "}\n",
       ".example1 h3 {\n",
       " font-size: 3em;\n",
       " color: red;\n",
       " position: absolute;\n",
       " width: 100%;\n",
       " height: 100%;\n",
       " margin: 0;\n",
       " line-height: 50px;\n",
       " text-align: center;\n",
       " /* Starting position */\n",
       " -moz-transform:translateX(100%);\n",
       " -webkit-transform:translateX(100%);\t\n",
       " transform:translateX(100%);\n",
       " /* Apply animation to this element */\t\n",
       " -moz-animation: example1 15s linear infinite;\n",
       " -webkit-animation: example1 15s linear infinite;\n",
       " animation: example1 15s linear infinite;\n",
       "}\n",
       "/* Move it (define the animation) */\n",
       "@-moz-keyframes example1 {\n",
       " 0%   { -moz-transform: translateX(100%); }\n",
       " 100% { -moz-transform: translateX(-100%); }\n",
       "}\n",
       "@-webkit-keyframes example1 {\n",
       " 0%   { -webkit-transform: translateX(100%); }\n",
       " 100% { -webkit-transform: translateX(-100%); }\n",
       "}\n",
       "@keyframes example1 {\n",
       " 0%   { \n",
       " -moz-transform: translateX(100%); /* Firefox bug fix */\n",
       " -webkit-transform: translateX(100%); /* Firefox bug fix */\n",
       " transform: translateX(100%); \t\t\n",
       " }\n",
       " 100% { \n",
       " -moz-transform: translateX(-100%); /* Firefox bug fix */\n",
       " -webkit-transform: translateX(-100%); /* Firefox bug fix */\n",
       " transform: translateX(-100%); \n",
       " }\n",
       "}\n",
       "</style>"
      ],
      "text/plain": [
       "<IPython.core.display.HTML object>"
      ]
     },
     "metadata": {},
     "output_type": "display_data"
    }
   ],
   "source": [
    "%%html\n",
    "<style>\n",
    ".example1 {\n",
    " height: 50px;\t\n",
    " overflow: hidden;\n",
    " position: relative;\n",
    "}\n",
    ".example1 h3 {\n",
    " font-size: 3em;\n",
    " color: red;\n",
    " position: absolute;\n",
    " width: 100%;\n",
    " height: 100%;\n",
    " margin: 0;\n",
    " line-height: 50px;\n",
    " text-align: center;\n",
    " /* Starting position */\n",
    " -moz-transform:translateX(100%);\n",
    " -webkit-transform:translateX(100%);\t\n",
    " transform:translateX(100%);\n",
    " /* Apply animation to this element */\t\n",
    " -moz-animation: example1 15s linear infinite;\n",
    " -webkit-animation: example1 15s linear infinite;\n",
    " animation: example1 15s linear infinite;\n",
    "}\n",
    "/* Move it (define the animation) */\n",
    "@-moz-keyframes example1 {\n",
    " 0%   { -moz-transform: translateX(100%); }\n",
    " 100% { -moz-transform: translateX(-100%); }\n",
    "}\n",
    "@-webkit-keyframes example1 {\n",
    " 0%   { -webkit-transform: translateX(100%); }\n",
    " 100% { -webkit-transform: translateX(-100%); }\n",
    "}\n",
    "@keyframes example1 {\n",
    " 0%   { \n",
    " -moz-transform: translateX(100%); /* Firefox bug fix */\n",
    " -webkit-transform: translateX(100%); /* Firefox bug fix */\n",
    " transform: translateX(100%); \t\t\n",
    " }\n",
    " 100% { \n",
    " -moz-transform: translateX(-100%); /* Firefox bug fix */\n",
    " -webkit-transform: translateX(-100%); /* Firefox bug fix */\n",
    " transform: translateX(-100%); \n",
    " }\n",
    "}\n",
    "</style>\n"
   ]
  },
  {
   "cell_type": "markdown",
   "metadata": {
    "slideshow": {
     "slide_type": "slide"
    }
   },
   "source": [
    "\n",
    "<h1 style=\"display:none;\">\n",
    "<h1 style=\"display:none;\">\n",
    "<h1 style=\"display:none;\">\n",
    "<h1 style=\"display:none;\">\n",
    "<h1 style=\"display:none;\">\n",
    "<h1 style=\"display:none;\">\n",
    "<h1 style=\"display:none;\">\n",
    "<h1 style=\"display:none;\">\n",
    "<h1 style=\"display:none;\">\n",
    "\n",
    "# Introduction to Computing for Engineers and Computer Scientists<BR><BR>Chapters 6, 7: Files, Exceptions, Lists"
   ]
  },
  {
   "cell_type": "markdown",
   "metadata": {},
   "source": [
    "## Questions, Discussion\n",
    "\n",
    "### From Class\n",
    "\n",
    "### Piazza"
   ]
  },
  {
   "cell_type": "markdown",
   "metadata": {},
   "source": [
    "## Introduction to Exceptions (Continued)\n",
    "\n",
    "### Overview\n",
    "\n",
    "From Punch and Enbody, chpt. 6.\n",
    "\n",
    "- Most modern languages provide methods to deal with ‘exceptional’ situations\n",
    "\n",
    "\n",
    "- Gives the programmer the option to keep the user from having the program stop (die) without warning or explanation. The programmer codes the program to:\n",
    "    - Retry failed condition.\n",
    "    - Terminate gracefully and with an understandable explanation instead of cryptic system error.\n",
    "    \n",
    "    \n",
    "- \"Again, this is not about fundamental CS, but about doing a better job as a programmer.\"\n",
    "    - __I strongly disagree.__\n",
    "    - This is fundamental. Software and programs are everywhere and critical.\n",
    "    - Robust, reliable programs can be the difference between life and death.\n",
    "    - This is what makes us engineers.\n",
    "    \n",
    "| <img src=\"../images/weinbergs_law.png\"> |\n",
    "| :--: |\n",
    "| [Weinberg's Second Law](https://en.wikipedia.org/wiki/Gerald_Weinberg) |\n"
   ]
  },
  {
   "cell_type": "markdown",
   "metadata": {},
   "source": [
    "- What constitutes an exception?\n",
    "    - There are many common ones that programs commonly experience\n",
    "        - User enters invalid data.\n",
    "        - Variable is wrong type.\n",
    "        - for loop range index outside a list.\n",
    "        - File not found on open.\n",
    "        - ... ...\n",
    "    - Developers can define their own exceptions to handle failures or errors in their application logic or input data.\n",
    "    \n",
    "    \n",
    "- Error and exceptions have specific _names._ You have seen many when your programs fail to execute. You have posted many of the errors on Piazza.\n",
    "\n",
    "| <img src=\"../images/error_names.jpeg\"> |\n",
    "| :---: |\n",
    "| __Error Names (Punch and Enbody)__ |\n",
    "\n"
   ]
  },
  {
   "cell_type": "markdown",
   "metadata": {},
   "source": [
    "- Python has a predefined hierarchy of [built-in exceptions](https://docs.python.org/3/library/exceptions.html).\n",
    "\n",
    "\n",
    "- Programmers can extend with application defined exceptions.\n",
    "\n",
    "\n",
    "- Fully understanding the hierarchy concept and programmer defined extensions requires understanding python classes (Punch and Enbody, chapters 11,12). We will cover in future lectures.\n",
    "\n",
    "\n",
    "| <img src=\"../images/exception_hierarchy.png\"> |\n",
    "| :---: |\n",
    "| __(Partial) Exception Hierarchy__ |"
   ]
  },
  {
   "cell_type": "markdown",
   "metadata": {},
   "source": [
    "### Exceptions and Exception Handling\n",
    "\n",
    "- Basic idea:\n",
    "    - Brackets and keep watch on a particular section (block, suite) of code.\n",
    "    - If we get an exception, raise/throw that exception (let it be known)\n",
    "    - Look for a catcher that can handle that kind of exception\n",
    "    - If found, handle it, otherwise let Python handle it (which usually halts the program)\n",
    "    \n",
    "    \n",
    "- For example,\n",
    "    - We have assumed that the input we receive is correct (from a file, from the user).\n",
    "    - This is almost never true. There is always the chance that the input could be wrong.\n",
    "    - Our programs should be able to handle this.\n",
    "    \n",
    "    \n",
    "- \"Writing Secure Code”, by Howard and LeBlanc, ISBN 978-0735617223.\n",
    "    - __“All input is evil until proven otherwise.”__\n",
    "    - Many security holes in programs are based on assumptions programmers make about input.\n",
    "    - Secure programs protect themselves from evil input.\n",
    "    \n",
    "\n",
    "<span style=\"color:red;\">\n",
    "< DFF-Non-Textbook-Digression >\n",
    "    </span>\n",
    "- For example, \n",
    "    - \"[Fuzzing](https://en.wikipedia.org/wiki/Fuzzing) or fuzz testing is an automated software testing technique that involves providing invalid, unexpected, or random data as inputs to a computer program.\" \n",
    "    - \"Fuzzing is used mostly as an automated technique to expose vulnerabilities in security-critical programs that might be exploited with malicious intent.\"\n",
    "    - Both \"good guys\" and \"bad guys\" use fuzzing.\n",
    "\n",
    "<span style=\"color:red;\">    \n",
    "< /DFF-Non-Textbook-Digression >\n",
    "    </span>\n",
    "\n"
   ]
  },
  {
   "cell_type": "code",
   "execution_count": 1,
   "metadata": {},
   "outputs": [
    {
     "data": {
      "text/html": [
       "<!-- HTML -->\t\n",
       "<div style=\"height:85px; color:red\" class=\"example1\">\n",
       "<h3>Rule 7: All input is evil until proven otherwise.</h3>\n",
       "</div>"
      ],
      "text/plain": [
       "<IPython.core.display.HTML object>"
      ]
     },
     "metadata": {},
     "output_type": "display_data"
    }
   ],
   "source": [
    "%%HTML\n",
    "<!-- HTML -->\t\n",
    "<div style=\"height:85px; color:red\" class=\"example1\">\n",
    "<h3>Rule 7: All input is evil until proven otherwise.</h3>\n",
    "</div>"
   ]
  },
  {
   "cell_type": "markdown",
   "metadata": {},
   "source": [
    "### Implementing (Handling) |Exceptions\n",
    "\n",
    "| <img src=\"../images/exception_1.jpeg\"> |\n",
    "| :---: |\n",
    "| __Exceptions Form 1__ |"
   ]
  },
  {
   "cell_type": "markdown",
   "metadata": {},
   "source": []
  },
  {
   "cell_type": "markdown",
   "metadata": {},
   "source": [
    "- try suite\n",
    "    - The try suite contains code that we want to monitor for errors during its execution. \n",
    "    - If an error occurs anywhere in that try suite, Python looks for a handler that can deal with the error.\n",
    "    - If no special handler exists, Python handles it, meaning the program halts and with an error message as we have seen so many times\n",
    "    \n",
    "    \n",
    "- except suite\n",
    "    - An  except suite (perhaps multiple except suites) is associated with a try suite.\n",
    "    - Each exception names a type of exception it is monitoring for.\n",
    "    - If the error that occurs in the try suite matches the type of exception, then that except suite is activated."
   ]
  },
  {
   "cell_type": "markdown",
   "metadata": {},
   "source": [
    "__Example 1:__ Extending Our First Program"
   ]
  },
  {
   "cell_type": "code",
   "execution_count": 4,
   "metadata": {},
   "outputs": [
    {
     "name": "stdout",
     "output_type": "stream",
     "text": [
      "Enter the radius of a circle: b\n",
      "\n",
      "Invalid type. You need to enter an integer.\n",
      "\n",
      " Finally always called.\n",
      "Enter the radius of a circle: c\n",
      "\n",
      "Invalid type. What part of integer did you not understand?\n",
      "\n",
      " Finally always called.\n",
      "Enter the radius of a circle: d\n",
      "\n",
      "Seriously? I cannot work like this. I am a professional.\n",
      "Next time you do this I divide by 0!\n",
      "\n",
      " Finally always called.\n",
      "Enter the radius of a circle: e\n",
      "\n",
      " Self-destruct sequence started.\n",
      "\n",
      " Finally always called.\n",
      "\n",
      "Exception =  division by zero\n",
      "Self-destruct complete.\n",
      "\n",
      " Finally always called.\n"
     ]
    }
   ],
   "source": [
    "# This program allows a user to input the radius on a circle.\n",
    "# We want to teach the formula to young children. So, we only\n",
    "# allow the radius to be an integer.\n",
    "\n",
    "# Almost every program you write will use \"programs\" others have written.\n",
    "# Your successful programs will become programs that others use.\n",
    "# Any non-trivial program requires a team. The team members assemble\n",
    "# the solution from individual subcomponents they build.\n",
    "# The subcomponents and reusable parts are called modules.\n",
    "\n",
    "import math     # We just imported our first module.\n",
    "\n",
    "# Programs, like mathematical functions, are only useful if they\n",
    "# operate on many user provided inputs. To start, we will get the input from\n",
    "# the \"command line.\"\n",
    "\n",
    "done = False\n",
    "error_count = 0\n",
    "self_destruct = False\n",
    "\n",
    "while not done:\n",
    "    try:\n",
    "        # If the self-destruct sequence is initiated. Trigger an exception\n",
    "        # that does not have an except clause. NOTE: This is a joke.\n",
    "        # No one every programs this way. The code would raise an exception.\n",
    "        if self_destruct:\n",
    "            x = 1 / 0\n",
    "            \n",
    "        # Print a prompt asking for the radius.\n",
    "        # Set a variable to the input value.\n",
    "        radius_str = input('Enter the radius of a circle: ')\n",
    "\n",
    "        # We are going to do 'math' on the input. So, we should\n",
    "        # covert it to an Integer.\n",
    "        radius_int = int(radius_str)\n",
    "\n",
    "        # The circumfrence is 2 times pi time the radius.\n",
    "        # The area is pi * r squared.\n",
    "        circumference = 2 * math.pi * radius_int\n",
    "        area = math.pi * (radius_int ** 2)\n",
    "        \n",
    "        # Python conventions do not like lines that are too long.\n",
    "        # \\ means that we will continue the command on the next line.\n",
    "        print (\"The cirumference is:\",circumference,  \\\n",
    "              \", and the area is:\",area)\n",
    "        done = True\n",
    "        \n",
    "    # Hand the case where converting to an integer failed. This is an example of\n",
    "    # \"Duck Typing.\" I try to treat the value as an int, and catch an exception\n",
    "    # if it fails.\n",
    "    except ValueError as e1:\n",
    "        error_count = error_count + 1\n",
    "        if (error_count == 1):\n",
    "            print(\"\\nInvalid type. You need to enter an integer.\")  \n",
    "        elif error_count == 2:\n",
    "            print(\"\\nInvalid type. What part of integer did you not understand?\")\n",
    "        elif error_count == 3:\n",
    "            print(\"\\nSeriously? I cannot work like this. I am a professional.\")\n",
    "            print(\"Next time you do this I divide by 0!\")\n",
    "        else:\n",
    "            print(\"\\n Self-destruct sequence started.\")\n",
    "            self_destruct = True\n",
    "            \n",
    "    # Again, this is a joke. No one programs this way.\n",
    "    except Exception as e:\n",
    "        print(\"\\nException = \", e)\n",
    "        print(\"Self-destruct complete.\")\n",
    "        break\n",
    "        \n",
    "    finally:\n",
    "        print('\\n Finally always called.')"
   ]
  },
  {
   "cell_type": "markdown",
   "metadata": {},
   "source": [
    "__Example 2:__ Generic Input Function"
   ]
  },
  {
   "cell_type": "code",
   "execution_count": 5,
   "metadata": {},
   "outputs": [],
   "source": [
    "# Validates integer input. Reusable in many places in a program or other programs.\n",
    "# Prompt is the message for soliciting user input.\n",
    "# lbound is the lower bound.\n",
    "# ubound is the upper bound.\n",
    "# patience is the number of times to let the user input a value.\n",
    "def safe_get_int(prompt, lbound, ubound, patience):\n",
    "    done = False\n",
    "    result = None\n",
    "    temp = None\n",
    "    tries = 0\n",
    "\n",
    "    # Loop until successful input or have exhausted all the tries.\n",
    "    while (not done) and (tries <= patience):\n",
    "        # The try ... except implements toleration for non-integer inputs.\n",
    "        try:\n",
    "            tries += 1\n",
    "            temp = input(prompt + \":\")\n",
    "            \n",
    "            # This is the statement that would trigger the exception if not an int.\n",
    "            temp = int(temp)\n",
    "            \n",
    "            # The value is an int -> No exception thrown. Is the value in the range.\n",
    "            if (temp < lbound) or (temp > ubound):\n",
    "                print(\"Valid range is \" + str(lbound) + \" to \" + str(ubound) + \" Try again.\")\n",
    "            else:\n",
    "                done = True\n",
    "                result = temp\n",
    "                \n",
    "        except TypeError as ve:\n",
    "            # Not an integer. Will try again.\n",
    "            # Will print a specific error message.\n",
    "            print(\"Input must be an integer.\")\n",
    "            \n",
    "        except Exception as e:\n",
    "            # Not sure what happened but will try again.\n",
    "            print(\"Got an expected exception. Trying again.\")\n",
    "\n",
    "            \n",
    "    # Did the function fail in getting a valid input?\n",
    "    # Will re-raise value error. Typically, we would raise a programmer defined exception.\n",
    "    if not done:\n",
    "        # Not my finest error message.\n",
    "        print(\"Prepare to die fool!\")\n",
    "        raise ValueError(\"Die fool!\")\n",
    "\n",
    "    return result\n",
    "\n",
    "\n",
    "# Prompts for a string input. The inputs are:\n",
    "# - prompt message\n",
    "# - An optional list of valid inputs.\n",
    "# - The number of base inputs to tolerate.\n",
    "def safe_get_string(prompt, valid_values, patience):\n",
    "    done = False\n",
    "    result = None\n",
    "    temp = None\n",
    "    tries = 0\n",
    "\n",
    "    # Loop until valid input or too many failed attempts.\n",
    "    while (not done) and (tries <= patience):\n",
    "        try:\n",
    "            tries += 1\n",
    "            temp = input(prompt + \":\")\n",
    "            if not temp in valid_values:\n",
    "                print(\"Valid values are \", valid_values)\n",
    "            else:\n",
    "                done = True\n",
    "                result = temp\n",
    "\n",
    "        # Should narrow this exception to something more specific\n",
    "        except Exception as e:\n",
    "            print(\"Got exception. Trying again.\")\n",
    "\n",
    "    # Raise input value failure.\n",
    "    if not done:\n",
    "        print(\"Prepare to die fool!\")\n",
    "        raise ValueError(\"Die you string entering fool!\")\n",
    "\n",
    "    return result\n",
    "\n"
   ]
  },
  {
   "cell_type": "code",
   "execution_count": 6,
   "metadata": {},
   "outputs": [
    {
     "name": "stdout",
     "output_type": "stream",
     "text": [
      "Please enter an integer. I am not going to tell you the range:-9\n",
      "Valid range is 1 to 252 Try again.\n",
      "Please enter an integer. I am not going to tell you the range:c\n",
      "Got an expected exception. Trying again.\n",
      "Please enter an integer. I am not going to tell you the range:-3\n",
      "Valid range is 1 to 252 Try again.\n",
      "Please enter an integer. I am not going to tell you the range:b\n",
      "Got an expected exception. Trying again.\n",
      "Prepare to die fool!\n"
     ]
    },
    {
     "ename": "ValueError",
     "evalue": "Die fool!",
     "output_type": "error",
     "traceback": [
      "\u001b[0;31m---------------------------------------------------------------------------\u001b[0m",
      "\u001b[0;31mValueError\u001b[0m                                Traceback (most recent call last)",
      "\u001b[0;32m<ipython-input-6-df42fdc56809>\u001b[0m in \u001b[0;36m<module>\u001b[0;34m()\u001b[0m\n\u001b[0;32m----> 1\u001b[0;31m \u001b[0mx\u001b[0m \u001b[0;34m=\u001b[0m \u001b[0msafe_get_int\u001b[0m\u001b[0;34m(\u001b[0m\u001b[0;34m\"Please enter an integer. I am not going to tell you the range\"\u001b[0m\u001b[0;34m,\u001b[0m \u001b[0;36m1\u001b[0m\u001b[0;34m,\u001b[0m \u001b[0;36m252\u001b[0m\u001b[0;34m,\u001b[0m \u001b[0;36m3\u001b[0m\u001b[0;34m)\u001b[0m\u001b[0;34m\u001b[0m\u001b[0m\n\u001b[0m\u001b[1;32m      2\u001b[0m \u001b[0mprint\u001b[0m\u001b[0;34m(\u001b[0m\u001b[0;34m\"Input was = \"\u001b[0m\u001b[0;34m,\u001b[0m \u001b[0mx\u001b[0m\u001b[0;34m)\u001b[0m\u001b[0;34m\u001b[0m\u001b[0m\n",
      "\u001b[0;32m<ipython-input-5-4f4149bbb784>\u001b[0m in \u001b[0;36msafe_get_int\u001b[0;34m(prompt, lbound, ubound, patience)\u001b[0m\n\u001b[1;32m     42\u001b[0m         \u001b[0;31m# Not my finest error message.\u001b[0m\u001b[0;34m\u001b[0m\u001b[0;34m\u001b[0m\u001b[0m\n\u001b[1;32m     43\u001b[0m         \u001b[0mprint\u001b[0m\u001b[0;34m(\u001b[0m\u001b[0;34m\"Prepare to die fool!\"\u001b[0m\u001b[0;34m)\u001b[0m\u001b[0;34m\u001b[0m\u001b[0m\n\u001b[0;32m---> 44\u001b[0;31m         \u001b[0;32mraise\u001b[0m \u001b[0mValueError\u001b[0m\u001b[0;34m(\u001b[0m\u001b[0;34m\"Die fool!\"\u001b[0m\u001b[0;34m)\u001b[0m\u001b[0;34m\u001b[0m\u001b[0m\n\u001b[0m\u001b[1;32m     45\u001b[0m \u001b[0;34m\u001b[0m\u001b[0m\n\u001b[1;32m     46\u001b[0m     \u001b[0;32mreturn\u001b[0m \u001b[0mresult\u001b[0m\u001b[0;34m\u001b[0m\u001b[0m\n",
      "\u001b[0;31mValueError\u001b[0m: Die fool!"
     ]
    }
   ],
   "source": [
    "x = safe_get_int(\"Please enter an integer. I am not going to tell you the range\", 1, 252, 3)\n",
    "print(\"Input was = \", x)\n"
   ]
  },
  {
   "cell_type": "markdown",
   "metadata": {},
   "source": [
    "### What Does This Have to Do With Files?\n",
    "\n",
    "- File not found is a very common error.\n",
    "\n",
    "\n",
    "- Bad data inside the file is also a common problem.\n"
   ]
  },
  {
   "cell_type": "code",
   "execution_count": null,
   "metadata": {
    "scrolled": true
   },
   "outputs": [
    {
     "name": "stdout",
     "output_type": "stream",
     "text": [
      "Whatever you do, do not choose file L5_collation.jpeg.\n",
      "Please enter a file name?L5_collation.jpeg\n",
      "You entered ... L5_collation.jpeg\n",
      "\n",
      "Reading file.\n",
      "Seriously? I mean really?\n",
      "Is not a text file dude. Error =  'utf-8' codec can't decode byte 0xff in position 0: invalid start byte\n",
      "Whatever you do, do not choose file L5_collation.jpeg.\n"
     ]
    }
   ],
   "source": [
    "done = False\n",
    "\n",
    "while not done:\n",
    "    try:\n",
    "        print(\"Whatever you do, do not choose file L5_collation.jpeg.\")\n",
    "        fn = input(\"Please enter a file name?\")\n",
    "        print(\"You entered ...\", fn)\n",
    "        f = open(fn,\"r\")\n",
    "        print(\"\\nReading file.\")\n",
    "        for s in f:\n",
    "            print(\"A line = \",s)\n",
    "        print(\"Done\")\n",
    "        done = True\n",
    "    except FileNotFoundError:\n",
    "        print(\"File not found. I will be patient.\")\n",
    "    except UnicodeDecodeError as ue:\n",
    "        print(\"Seriously? I mean really?\")\n",
    "        print(\"Is not a text file dude. Error = \", ue)\n",
    "    except Exception as e:\n",
    "        print(\"Something else happened. e= \",e)\n",
    "        break\n",
    "    "
   ]
  },
  {
   "cell_type": "markdown",
   "metadata": {},
   "source": [
    "## Reminder: Rules so Far, Plus a Rule about Don"
   ]
  },
  {
   "cell_type": "markdown",
   "metadata": {},
   "source": [
    "\n",
    "<!-- HTML -->\t\n",
    "<div style=\"height:100px; color:red\" class=\"example1\">\n",
    "<h3 class=\"example1\">Reminder: Rules do far</h3>\n",
    "</div>\n",
    "<div style=\"height:100px; color:red\" class=\"example1\">\n",
    "<h3 class=\"example1\">Think before you program!</h3>\n",
    "</div>\n",
    "<div style=\"height:200px; color:green\" class=\"example1\">\n",
    "<h3 style=\"color:green;\" class=\"example1\">A program is a human-readable essay on problem solving that also happens to execute on a computer.</h3>\n",
    "</div>\n",
    "<div style=\"height:150px; color:red\" class=\"example1\">\n",
    "<h3 class=\"example1\">The best way to improve your programming and problem solving skills is to practice!</h3>\n",
    "</div>\n",
    "<div style=\"height:150px; color:red\" class=\"example1\">\n",
    "<h3 style=\"color:red;\" class=\"example1\">A foolish consistency is the hobgoblin of little minds</h3>\n",
    "</div>\n",
    "<div style=\"height:100px; color:red\" class=\"example1\">\n",
    "<h3 style=\"color:red;\" class=\"example1\">Test your code, often and thoroughly</h3>\n",
    "</div>\n",
    "<div style=\"height:150px; color:red\" class=\"example1\">\n",
    "<h3 style=\"color:red;\" class=\"example1\">If it was hard to write, it is probably hard to read. Add a comment.</h3>\n",
    "</div>\n",
    "<div style=\"height:150px; color:red\" class=\"example1\">\n",
    "<h3 style=\"color:red;\" class=\"example1\">All input is evil, unless proven otherwise.</h3>\n",
    "</div>\n",
    "<div style=\"height:100px; color:red\" class=\"example1\">\n",
    "<h3 style=\"color:blue;\" class=\"example1\">Don get's bored easily.</h3>\n",
    "</div>\n"
   ]
  },
  {
   "cell_type": "markdown",
   "metadata": {},
   "source": [
    "## HW3: A Simple Web Application that Pulls Concepts Together\n",
    "\n",
    "### Overview\n",
    "\n",
    "- _Section 6.8 - GUI to COUNT POKER HANDS pulls some of the concepts together._ Specifically,\n",
    "    - Reading a text file.\n",
    "    - Some use of exceptions.\n",
    "    - Very simple string operations.\n",
    "    - Simple functions.\n",
    "    \n",
    "    \n",
    "- The sample application also is a web (GUI) application. So, you cannot blame me for \"Not following the book.\"\n",
    "\n",
    "\n",
    "- The book's sample program \"counts (scores) a poker hand.\" You will sound lame if you talk about this program on an internship interview.\n",
    "\n",
    "\n",
    "- Instead, you will be able to say,\n",
    "\n",
    "\"I wrote a simple AngularJS, Model-View-Controller web UI that invoked a Python/Flask based server implementing a REST API. The REST API implemented a set of simple algorithms based on [Levenshtein distance](https://en.wikipedia.org/wiki/Levenshtein_distance) applied to strings to suggest possible spelling corrections for misspelled words. The Python/Flask service recorded common misspellings to augment the LD heuristics. The professor was going to have us implement a simple learning algorithm based on a [Multilayer Perceptron (MLP) Neural Network](https://en.wikipedia.org/wiki/Multilayer_perceptron) to heuristically learn a person's common errors and corrections. We revolted and stuffed him in a dumpster until common sense prevailed.\""
   ]
  },
  {
   "cell_type": "markdown",
   "metadata": {},
   "source": [
    "### Modified Example from Textbook\n",
    "\n",
    "- Modified example from Punch and Enbody, section 6.8\n",
    "\n",
    "\n",
    "- Note: The code below __will not execute in a Jupyter notebook if debug is set to True.__ The program needs to be \"the main program in this case.\""
   ]
  },
  {
   "cell_type": "markdown",
   "metadata": {},
   "source": [
    "#### Demo\n",
    "\n",
    "Demo goes here.\n",
    "\n",
    "#### Code"
   ]
  },
  {
   "cell_type": "code",
   "execution_count": 1,
   "metadata": {},
   "outputs": [
    {
     "ename": "OSError",
     "evalue": "[Errno 48] Address already in use",
     "output_type": "error",
     "traceback": [
      "\u001b[0;31m---------------------------------------------------------------------------\u001b[0m",
      "\u001b[0;31mOSError\u001b[0m                                   Traceback (most recent call last)",
      "\u001b[0;32m<ipython-input-1-341b1c88266f>\u001b[0m in \u001b[0;36m<module>\u001b[0;34m()\u001b[0m\n\u001b[1;32m    106\u001b[0m \u001b[0;34m\u001b[0m\u001b[0m\n\u001b[1;32m    107\u001b[0m \u001b[0;32mif\u001b[0m \u001b[0m__name__\u001b[0m \u001b[0;34m==\u001b[0m \u001b[0;34m'__main__'\u001b[0m\u001b[0;34m:\u001b[0m\u001b[0;34m\u001b[0m\u001b[0m\n\u001b[0;32m--> 108\u001b[0;31m     \u001b[0mapp\u001b[0m\u001b[0;34m.\u001b[0m\u001b[0mrun\u001b[0m\u001b[0;34m(\u001b[0m\u001b[0mdebug\u001b[0m\u001b[0;34m=\u001b[0m\u001b[0;32mTrue\u001b[0m\u001b[0;34m)\u001b[0m\u001b[0;34m\u001b[0m\u001b[0m\n\u001b[0m",
      "\u001b[0;32m~/anaconda3/lib/python3.6/site-packages/flask/app.py\u001b[0m in \u001b[0;36mrun\u001b[0;34m(self, host, port, debug, **options)\u001b[0m\n\u001b[1;32m    839\u001b[0m         \u001b[0moptions\u001b[0m\u001b[0;34m.\u001b[0m\u001b[0msetdefault\u001b[0m\u001b[0;34m(\u001b[0m\u001b[0;34m'use_debugger'\u001b[0m\u001b[0;34m,\u001b[0m \u001b[0mself\u001b[0m\u001b[0;34m.\u001b[0m\u001b[0mdebug\u001b[0m\u001b[0;34m)\u001b[0m\u001b[0;34m\u001b[0m\u001b[0m\n\u001b[1;32m    840\u001b[0m         \u001b[0;32mtry\u001b[0m\u001b[0;34m:\u001b[0m\u001b[0;34m\u001b[0m\u001b[0m\n\u001b[0;32m--> 841\u001b[0;31m             \u001b[0mrun_simple\u001b[0m\u001b[0;34m(\u001b[0m\u001b[0mhost\u001b[0m\u001b[0;34m,\u001b[0m \u001b[0mport\u001b[0m\u001b[0;34m,\u001b[0m \u001b[0mself\u001b[0m\u001b[0;34m,\u001b[0m \u001b[0;34m**\u001b[0m\u001b[0moptions\u001b[0m\u001b[0;34m)\u001b[0m\u001b[0;34m\u001b[0m\u001b[0m\n\u001b[0m\u001b[1;32m    842\u001b[0m         \u001b[0;32mfinally\u001b[0m\u001b[0;34m:\u001b[0m\u001b[0;34m\u001b[0m\u001b[0m\n\u001b[1;32m    843\u001b[0m             \u001b[0;31m# reset the first request information if the development server\u001b[0m\u001b[0;34m\u001b[0m\u001b[0;34m\u001b[0m\u001b[0m\n",
      "\u001b[0;32m~/anaconda3/lib/python3.6/site-packages/werkzeug/serving.py\u001b[0m in \u001b[0;36mrun_simple\u001b[0;34m(hostname, port, application, use_reloader, use_debugger, use_evalex, extra_files, reloader_interval, reloader_type, threaded, processes, request_handler, static_files, passthrough_errors, ssl_context)\u001b[0m\n\u001b[1;32m    718\u001b[0m             \u001b[0ms\u001b[0m \u001b[0;34m=\u001b[0m \u001b[0msocket\u001b[0m\u001b[0;34m.\u001b[0m\u001b[0msocket\u001b[0m\u001b[0;34m(\u001b[0m\u001b[0maddress_family\u001b[0m\u001b[0;34m,\u001b[0m \u001b[0msocket\u001b[0m\u001b[0;34m.\u001b[0m\u001b[0mSOCK_STREAM\u001b[0m\u001b[0;34m)\u001b[0m\u001b[0;34m\u001b[0m\u001b[0m\n\u001b[1;32m    719\u001b[0m             \u001b[0ms\u001b[0m\u001b[0;34m.\u001b[0m\u001b[0msetsockopt\u001b[0m\u001b[0;34m(\u001b[0m\u001b[0msocket\u001b[0m\u001b[0;34m.\u001b[0m\u001b[0mSOL_SOCKET\u001b[0m\u001b[0;34m,\u001b[0m \u001b[0msocket\u001b[0m\u001b[0;34m.\u001b[0m\u001b[0mSO_REUSEADDR\u001b[0m\u001b[0;34m,\u001b[0m \u001b[0;36m1\u001b[0m\u001b[0;34m)\u001b[0m\u001b[0;34m\u001b[0m\u001b[0m\n\u001b[0;32m--> 720\u001b[0;31m             \u001b[0ms\u001b[0m\u001b[0;34m.\u001b[0m\u001b[0mbind\u001b[0m\u001b[0;34m(\u001b[0m\u001b[0;34m(\u001b[0m\u001b[0mhostname\u001b[0m\u001b[0;34m,\u001b[0m \u001b[0mport\u001b[0m\u001b[0;34m)\u001b[0m\u001b[0;34m)\u001b[0m\u001b[0;34m\u001b[0m\u001b[0m\n\u001b[0m\u001b[1;32m    721\u001b[0m             \u001b[0;32mif\u001b[0m \u001b[0mhasattr\u001b[0m\u001b[0;34m(\u001b[0m\u001b[0ms\u001b[0m\u001b[0;34m,\u001b[0m \u001b[0;34m'set_inheritable'\u001b[0m\u001b[0;34m)\u001b[0m\u001b[0;34m:\u001b[0m\u001b[0;34m\u001b[0m\u001b[0m\n\u001b[1;32m    722\u001b[0m                 \u001b[0ms\u001b[0m\u001b[0;34m.\u001b[0m\u001b[0mset_inheritable\u001b[0m\u001b[0;34m(\u001b[0m\u001b[0;32mTrue\u001b[0m\u001b[0;34m)\u001b[0m\u001b[0;34m\u001b[0m\u001b[0m\n",
      "\u001b[0;31mOSError\u001b[0m: [Errno 48] Address already in use"
     ]
    }
   ],
   "source": [
    "# Copyright 2017, 2013, 2011 Pearson Education, Inc., W.F. Punch & R.J.Enbody\n",
    "# Modified by Donald F. Ferguson, Columbia University, 2018\n",
    "\n",
    "\n",
    "# Import some frameworks that help us implement a web application.\n",
    "from flask import Flask, render_template_string, request\n",
    "from wtforms import Form, validators, TextField\n",
    "import string\n",
    "\n",
    "\n",
    "##############################################################################################################\n",
    "# These are the two functions you will write.\n",
    "# You will implement in a separate Python file and access via an import statement.\n",
    "# The code here is a just a placeholder.\n",
    "\n",
    "\n",
    "# 1. Check a dictionary to determine if word is correctly spelled.\n",
    "# 2. If not, call a set of functions that generate \"near by, correctly spelled words.\"\n",
    "# 3. Return the 5 \"best suggested corrections.\"\n",
    "def check_word(word):\n",
    "    # Your code and called functions go here.\n",
    "    return \"floccinaucinihilipilification, sesquipedalianism?\"\n",
    "\n",
    "\n",
    "# The user selected a correction, or entered a new correct spelling.\n",
    "# We will record the correct spelling and score as a possible common correction for user.\n",
    "def update_corrections(original_word, corrected_word):\n",
    "    # Your code goes here.\n",
    "    print(\"Correction for \" + original_word + \" is \" + \"corrected_word\")\n",
    "\n",
    "# End of where your code will go.\n",
    "##############################################################################################################\n",
    "\n",
    "# Include and initialize the Flask framework.\n",
    "app = Flask(__name__)\n",
    "\n",
    "\n",
    "# html page is the view. Putting templates directly in the application is a massive anti-pattern.\n",
    "# Also, most programmers and applications do not use static HTML templates like this one.\n",
    "# I will give you the HTML pages to \"serve\" in your application.\n",
    "#\n",
    "page = '''\n",
    "<html>\n",
    "   <head>\n",
    "      <title>HW3 -- The Spelling Correction Suggester!</title>\n",
    "      <script>\n",
    "        function myFunction() {\n",
    "            var x = document.getElementById(\"told_you_so\");\n",
    "            if (x.style.display === \"none\") {\n",
    "                x.style.display = \"block\";\n",
    "            }\n",
    "            else {\n",
    "                x.style.display = \"none\";\n",
    "            }\n",
    "        }\n",
    "        </script>\n",
    "   </head>\n",
    "\n",
    "   <body>\n",
    "      <h1>HW3 -- The Spelling Police</h1>\n",
    "      <h2>Our Motto is, \"To correct and serve!\"</h2>\n",
    "\n",
    "      <form method=post action=\"\">\n",
    "         So, you think you can spell?\n",
    "      <br>\n",
    "      Enter a word.\n",
    "         {{ template_form.text_field }}\n",
    "      <br>\n",
    "        {% if result != None %}\n",
    "        <br>\n",
    "           Did you possibly mean? {{ result }}\n",
    "        <br>\n",
    "        {% endif %}\n",
    "      <br>\n",
    "        <input type=submit value=Check>\n",
    "      </form>\n",
    "       <button onclick=\"myFunction()\">What does this button do?</button>\n",
    "       <div id=\"told_you_so\" style=\"display:none;\">\n",
    "        <p>\n",
    "        <span style=\"color:red;font-size: 32px;\">\n",
    "        Told you web apps are in the textbook.\n",
    "        </span>\n",
    "        </div>\n",
    "   </body>\n",
    "</html>\n",
    "'''\n",
    "\n",
    "\n",
    "# InputForm and below is our controller\n",
    "# form with a single TextField.\n",
    "# This is part of the framework and you do not need to worry about it.\n",
    "class InputForm(Form):\n",
    "    text_field = TextField(validators=[validators.InputRequired()])\n",
    "\n",
    "\n",
    "# This is the core of the web application server and implementing the page delivery and REST API.\n",
    "@app.route('/', methods=['GET', 'POST'])\n",
    "def index():\n",
    "    spell_result = None\n",
    "    form = InputForm(request.form)\n",
    "    if request.method == 'POST' and form.validate():\n",
    "        input_val = form.text_field.data\n",
    "        spell_result = check_word(input_val)\n",
    "    return render_template_string(page, template_form=form, result = spell_result)\n",
    "\n",
    "\n",
    "if __name__ == '__main__':\n",
    "    app.run(debug=True)\n"
   ]
  },
  {
   "cell_type": "markdown",
   "metadata": {},
   "source": [
    "#### Explanation\n",
    "\n",
    "| <img src=\"../images/clientserver.jpeg\"> |\n",
    "| :---: |\n",
    "| __Simple Web Application__ |"
   ]
  },
  {
   "cell_type": "markdown",
   "metadata": {},
   "source": [
    "- In our scenario, there will be two applications running (in processes) on a single laptop\n",
    "    - Browser (Chrome) in demo.\n",
    "    - Python program running Flask and listening for requests.\n",
    "    \n",
    "    \n",
    "- All executing programs, e.g. browser, Word, PyCharm, Jupyter Notebook server, ... execute in an operating system process.\n",
    "\n",
    "\n",
    "| <img src=\"../images/os_processes.jpeg\"> |\n",
    "| :---: |\n",
    "| __OS Processes__ |\n",
    "    "
   ]
  },
  {
   "cell_type": "markdown",
   "metadata": {},
   "source": [
    "- Request processing flow\n",
    "    1. Browser sends a GET HTTP message to the computer at address 127:0.0.1\n",
    "    1. Operating system routes the message to application listening on port 5000.\n",
    "    1. Application responds with a message containing an HTML text document.\n",
    "    1. The browser interprets the text and renders the document in graphical form in browser window.\n",
    "\n",
    "| <img src=\"../images/web_request.jpeg\"> |\n",
    "| :---: |\n",
    "| __Web Request__ |\n",
    "    "
   ]
  },
  {
   "cell_type": "markdown",
   "metadata": {},
   "source": [
    "- For HW2:\n",
    "    - I will give you all of the HTML and Flask program.\n",
    "    - Your program will simply receive requests routed to the functions.\n",
    "    - Implement two functions and return."
   ]
  },
  {
   "cell_type": "markdown",
   "metadata": {},
   "source": [
    "## Homework 2: Spelling Correction\n",
    "\n",
    "- You will implement two functions, which will use Python libraries and other functions you develop for implementation.\n",
    "\n",
    "```\n",
    "# 1. Check a dictionary to determine if word is correctly spelled.\n",
    "# 2. If not, call a set of functions that generate \"near by, correctly spelled words.\"\n",
    "# 3. Return the 5 \"best suggested corrections.\"\n",
    "def check_word(word):\n",
    "    # Your code and called functions go here.\n",
    "    return \"floccinaucinihilipilification, sesquipedalianism?\"\n",
    "\n",
    "\n",
    "# The user selected a correction, or entered a new correct spelling.\n",
    "# We will record the correct spelling and score as a possible common correction for user.\n",
    "def update_corrections(original_word, corrected_word):\n",
    "    # Your code goes here.\n",
    "    print(\"Correction for \" + original_word + \" is \" + \"corrected_word\")\n",
    "```\n"
   ]
  },
  {
   "cell_type": "markdown",
   "metadata": {},
   "source": [
    "__Application functions__\n",
    "\n",
    "- Internal function: Read a CSV file that is a dictionary of correctly spelled words.\n",
    "    - A line is of the form \"word,frequency,user_created,selected\n",
    "    - The fields mean\n",
    "        - _word_ is a correctly spelled word.\n",
    "        - _frequency_ is the relative frequency of the word in English and is a float between 0.0 and 1.0\n",
    "        - User created is the string \"true\" if the user entered this word as a correct and is missing other wise.\n",
    "        - Selected is the number of times the user has selected the word over all executions of your program.\n",
    "    - For example:\n",
    "        - \"the,0,8,,4\" $\\rightarrow$ \"the\" has frequency 0.8, was not created by user and has been selected as a correction 4 times. \n",
    "        - \"tho,,TRUE,1\" means the user entered this word as a correction, and has done so once.\n",
    "\n",
    "| <img src=\"../images/hw3_dictionary.jpeg\"> |\n",
    "| :---: |\n",
    "| __Dictionary Example__ |"
   ]
  },
  {
   "cell_type": "markdown",
   "metadata": {},
   "source": [
    "- Function _check_word(w):_\n",
    "    1. If the dictionary is not loaded, calls the internal function to load.\n",
    "    1. Checks the list holding the correctly spelled words.\n",
    "    1. A single entry is of the form \\[word, frequency, user_created, selected\\]\n",
    "    1. The \"dictionary\" is a list in which each entry is a list like the one above.\n",
    "    1. If the word is in the dictionary, returns _True._\n",
    "    1. If the word is not in the dictionary. The function generates a set of possible corrections:\n",
    "        1. Letters transposed.\n",
    "        1. Letter missing.\n",
    "        1. Space missing (word needs to be split).\n",
    "        1. Letter needs to be changed.\n",
    "        1. Letter needs to be removed.\n",
    "    1. Checks the list of possible corrections in the dictionary.\n",
    "        - If a word is found, adds to a list of suggestions.\n",
    "        - If a word is not found, adds to a list of failed suggestions.\n",
    "    1. If the list of suggestions has less than 10 suggestions\n",
    "        - Repeat the steps above for every incorrect word in failed suggestions. This generates a list of words that require _two corrections._ \n",
    "        - Add any correctly spelled words to the suggestion list.\n",
    "    1. The returned result of the function is a list containing:\n",
    "        1. Any user created word.\n",
    "        1. The top 10 most likely suggested words. The rule is:\n",
    "            - If there are 5 or more words with one correction, return the ones with the 5 highest frequencies.\n",
    "            - If there are less than 10, return the most likely words (using frequency) with two corrections.\n",
    "            - If the total is still less than 10, just return the suggestions.\n",
    "            \n",
    "            \n",
    "- Function _update_correction(old_word, new_word):_\n",
    "    - If new_word is in the dictionary, increment the number of times selected.\n",
    "    - If new word is NOT in the dictionary, add as a user created word.\n",
    "    - Update the dictionary file.\n",
    "    "
   ]
  },
  {
   "cell_type": "markdown",
   "metadata": {},
   "source": [
    "## Data Structure, Lists, Tuples\n",
    "\n",
    "### Data Structures\n",
    "\n",
    "<img src=\"../images/chapter7/Slide03.jpg\">\n",
    "<img src=\"../images/chapter7/Slide04.jpg\">\n",
    "<img src=\"../images/chapter7/Slide05.jpg\">\n",
    "<img src=\"../images/chapter7/Slide06.jpg\">\n"
   ]
  },
  {
   "cell_type": "markdown",
   "metadata": {},
   "source": [
    "### Lists\n",
    "\n",
    "<img src=\"../images/chapter7/Slide08.jpg\">\n",
    "<img src=\"../images/chapter7/Slide09.jpg\">\n",
    "<img src=\"../images/chapter7/Slide10.jpg\">\n",
    "<img src=\"../images/chapter7/Slide11.jpg\">\n",
    "<img src=\"../images/chapter7/Slide12.jpg\">\n",
    "<img src=\"../images/chapter7/Slide13.jpg\">\n",
    "<img src=\"../images/chapter7/Slide14.jpg\">\n",
    "<img src=\"../images/chapter7/Slide15.jpg\">\n",
    "<img src=\"../images/chapter7/Slide16.jpg\">\n",
    "<img src=\"../images/chapter7/Slide17.jpg\">\n",
    "<img src=\"../images/chapter7/Slide18.jpg\">\n",
    "\n"
   ]
  },
  {
   "cell_type": "markdown",
   "metadata": {},
   "source": []
  },
  {
   "cell_type": "markdown",
   "metadata": {},
   "source": [
    "### Mutability\n",
    "<img src=\"../images/chapter7/Slide20.jpg\">\n",
    "<img src=\"../images/chapter7/Slide21.jpg\">\n",
    "<img src=\"../images/chapter7/Slide22.jpg\">\n",
    "<img src=\"../images/chapter7/Slide23.jpg\">\n",
    "<img src=\"../images/chapter7/Slide24.jpg\">\n",
    "<img src=\"../images/chapter7/Slide25.jpg\">\n",
    "<img src=\"../images/chapter7/Slide26.jpg\">\n",
    "<img src=\"../images/chapter7/Slide27.jpg\">\n",
    "<img src=\"../images/chapter7/Slide28.jpg\">\n",
    "<img src=\"../images/chapter7/Slide29.jpg\">\n",
    "<img src=\"../images/chapter7/Slide30.jpg\">"
   ]
  },
  {
   "cell_type": "markdown",
   "metadata": {},
   "source": [
    "__Some Examples__\n",
    "\n",
    "_Sorting, Iterating, Joining_\n"
   ]
  },
  {
   "cell_type": "code",
   "execution_count": 48,
   "metadata": {},
   "outputs": [
    {
     "name": "stdout",
     "output_type": "stream",
     "text": [
      "The characters in str1 are:  ['q', 'u', 'i', 'c', 'k', 'b', 'r', 'o', 'w', 'n', 'f', 'o', 'x'] \n",
      "\n",
      "Sorted list is  ['b', 'c', 'f', 'i', 'k', 'n', 'o', 'o', 'q', 'r', 'u', 'w', 'x'] \n",
      "\n",
      "Converted back to a string =  bcfiknooqruwx\n"
     ]
    }
   ],
   "source": [
    "# Define a test string.\n",
    "str1=\"quickbrownfox\"\n",
    "\n",
    "# A concise approach for expanding a string.\n",
    "l1 = [a for a in str1]\n",
    "print(\"The characters in str1 are: \", l1, \"\\n\")\n",
    "\n",
    "# Sort the elements in the list.\n",
    "l1.sort()\n",
    "print(\"Sorted list is \", l1, \"\\n\")\n",
    "\n",
    "# Convert back to a string.\n",
    "str1 = \"\".join(l1)\n",
    "print(\"Converted back to a string = \", str1)"
   ]
  },
  {
   "cell_type": "markdown",
   "metadata": {},
   "source": [
    "_Delimited Strings_"
   ]
  },
  {
   "cell_type": "code",
   "execution_count": 49,
   "metadata": {},
   "outputs": [
    {
     "name": "stdout",
     "output_type": "stream",
     "text": [
      "The individual elements are:  ['21-Feb-2018', '13:10', 'E1006', '415 SIPA']\n"
     ]
    }
   ],
   "source": [
    "line=\"21-Feb-2018;13:10;E1006;415 SIPA\"\n",
    "elements = line.split(\";\")\n",
    "print(\"The individual elements are: \", elements)"
   ]
  },
  {
   "cell_type": "markdown",
   "metadata": {},
   "source": [
    "_Mutation_ "
   ]
  },
  {
   "cell_type": "code",
   "execution_count": 53,
   "metadata": {},
   "outputs": [
    {
     "name": "stdout",
     "output_type": "stream",
     "text": [
      "Elements still =  ['Donald F. Ferguson', 'Donald F. Ferguson', 'Donald F. Ferguson', 'E1006 - Introduction to Computing', 'E1006 - Introduction to Computing', 'E1006 - Introduction to Computing', '415 SIPA'] \n",
      "\n",
      "Elements is now =  ['Donald F. Ferguson', 'Donald F. Ferguson', 'E1006 - Introduction to Computing', 'E1006 - Introduction to Computing', 'E1006 - Introduction to Computing', 'E1006 - Introduction to Computing', '415 SIPA'] \n",
      "\n",
      "Elements is now =  ['Donald F. Ferguson', 'Donald F. Ferguson', 'E1006 - Introduction to Computing', 'E1006 - Introduction to Computing', 'E1006 - Introduction to Computing', 'E1006 - Introduction to Computing', '415 SIPA', 'Donald F. Ferguson'] \n",
      "\n",
      "I popped  None making elements =  ['Donald F. Ferguson', 'Donald F. Ferguson', 'E1006 - Introduction to Computing', 'E1006 - Introduction to Computing', 'E1006 - Introduction to Computing', 'E1006 - Introduction to Computing', '415 SIPA'] \n",
      "\n",
      "I added the thing I popped and elements. Now =  [None, 'Donald F. Ferguson', 'Donald F. Ferguson', 'E1006 - Introduction to Computing', 'E1006 - Introduction to Computing', 'E1006 - Introduction to Computing', 'E1006 - Introduction to Computing', '415 SIPA'] \n",
      "\n",
      "Note that I had to take the single element and make a list for addition.\n"
     ]
    }
   ],
   "source": [
    "print(\"Elements still = \", elements, \"\\n\")\n",
    "elements[2] = \"E1006 - Introduction to Computing\"\n",
    "print(\"Elements is now = \", elements, \"\\n\")\n",
    "elements.append(\"Donald F. Ferguson\")\n",
    "print(\"Elements is now = \", elements, \"\\n\")\n",
    "d= None\n",
    "d  = elements.pop(-1)\n",
    "print(\"I popped \", d, \"making elements = \", elements, \"\\n\")\n",
    "elements = [d] + elements\n",
    "print(\"I added the thing I popped and elements. Now = \", elements, \"\\n\")\n",
    "print(\"Note that I had to take the single element and make a list for addition.\")\n"
   ]
  },
  {
   "cell_type": "markdown",
   "metadata": {},
   "source": [
    "_Manipulating a List_\n"
   ]
  },
  {
   "cell_type": "code",
   "execution_count": 55,
   "metadata": {},
   "outputs": [
    {
     "name": "stdout",
     "output_type": "stream",
     "text": [
      "I removed element at 1 =  Donald F. Ferguson  leaving list =  [None, 'E1006 - Introduction to Computing', 'E1006 - Introduction to Computing', 'E1006 - Introduction to Computing', 'E1006 - Introduction to Computing', '415 SIPA']\n"
     ]
    }
   ],
   "source": [
    "d2 = elements.pop(1)\n",
    "print(\"I removed element at 1 = \", d2, \" leaving list = \", elements)"
   ]
  },
  {
   "cell_type": "code",
   "execution_count": 61,
   "metadata": {},
   "outputs": [
    {
     "name": "stdout",
     "output_type": "stream",
     "text": [
      "I have picked on elements enough. New list =  [0, 1, 2, 'mouse', 4, 5, 6, 'cat', 8, 9] \n",
      "\n",
      "Element at position 2 has gone to the void. x =  [0, 1, 'mouse', 4, 5, 6, 'cat', 8, 9] \n",
      "\n",
      "I removed the element with value 'mouse. x =  [0, 1, 4, 5, 6, 'cat', 8, 9] \n",
      "\n",
      "Is there another 'mouse?' If so, remove it.\n",
      "Got a value error. There were no mice.\n",
      "After attempting mouse extraction, x =  [0, 1, 4, 5, 6, 'cat', 8, 9] \n",
      "\n",
      "Where is the cat?\n",
      "The cat is at  5 \n",
      "\n",
      "Transfiguring 'cat' to 'mouse.\n",
      "x =  [0, 1, 4, 5, 6, 'mouse', 8, 9] \n",
      "\n",
      "cats follow mice.\n",
      "Thus, x =  [0, 1, 4, 5, 6, 'mouse', 'cat', 8, 9]\n"
     ]
    }
   ],
   "source": [
    "x = [0, 1, 2, \"mouse\", 4, 5, 6, \"cat\", 8, 9]\n",
    "print(\"I have picked on elements enough. New list = \", x,\"\\n\")\n",
    "del[x[2]]\n",
    "print(\"Element at position 2 has gone to the void. x = \", x, \"\\n\")\n",
    "x.remove(\"mouse\")\n",
    "print(\"I removed the element with value 'mouse. x = \", x, \"\\n\")\n",
    "\n",
    "try:\n",
    "    print(\"Is there another 'mouse?' If so, remove it.\")\n",
    "    x.remove(\"mouse\")\n",
    "except ValueError as ve:\n",
    "    print(\"Got a value error. There were no mice.\")\n",
    "    \n",
    "print(\"After attempting mouse extraction, x = \", x, \"\\n\")\n",
    "\n",
    "print(\"Where is the cat?\")\n",
    "print(\"The cat is at \", x.index('cat'), \"\\n\")\n",
    "print(\"Transfiguring 'cat' to 'mouse.\")\n",
    "x[x.index('cat')]='mouse'\n",
    "print(\"x = \", x, \"\\n\")\n",
    "\n",
    "print(\"cats follow mice.\")\n",
    "x.insert(x.index('mouse')+1, 'cat')\n",
    "print(\"Thus, x = \", x)\n",
    "\n"
   ]
  },
  {
   "cell_type": "code",
   "execution_count": 63,
   "metadata": {},
   "outputs": [
    {
     "name": "stdout",
     "output_type": "stream",
     "text": [
      "2\n",
      "3\n"
     ]
    }
   ],
   "source": [
    "y = [1, 2, 3]\n",
    "print(y[1])\n",
    "y.pop(0)\n",
    "print(y[1])"
   ]
  },
  {
   "cell_type": "markdown",
   "metadata": {},
   "source": [
    "_How do you learn all of this and understand how to use it?_\n",
    "\n",
    "The same way you get to Carnegie Hall. Practice."
   ]
  },
  {
   "cell_type": "markdown",
   "metadata": {},
   "source": [
    "### Example: Words and Unique Words\n"
   ]
  },
  {
   "cell_type": "code",
   "execution_count": 64,
   "metadata": {},
   "outputs": [
    {
     "name": "stdout",
     "output_type": "stream",
     "text": [
      "Speech words =  ['four', 'score', 'and', 'seven', 'years', 'ago', 'our', 'fathers', 'brought', 'forth', 'on', 'this', 'continent', 'a', 'new', 'nation', 'conceived', 'in', 'liberty', 'and', 'dedicated', 'to', 'the', 'proposition', 'that', 'all', 'men', 'are', 'created', 'equal', 'now', 'we', 'are', 'engaged', 'in', 'a', 'great', 'civil', 'war', 'testing', 'whether', 'that', 'nation', 'or', 'any', 'nation', 'so', 'conceived', 'and', 'so', 'dedicated', 'can', 'long', 'endure', 'we', 'are', 'met', 'on', 'a', 'great', 'battlefield', 'of', 'that', 'war', 'we', 'have', 'come', 'to', 'dedicate', 'a', 'portion', 'of', 'that', 'field', 'as', 'a', 'final', 'resting', 'place', 'for', 'those', 'who', 'here', 'gave', 'their', 'lives', 'that', 'that', 'nation', 'might', 'live', 'it', 'is', 'altogether', 'fitting', 'and', 'proper', 'that', 'we', 'should', 'do', 'this', 'but', 'in', 'a', 'larger', 'sense', 'we', 'can', 'not', 'dedicate', 'we', 'can', 'not', 'consecrate', 'we', 'can', 'not', 'hallow', 'this', 'ground', 'the', 'brave', 'men', 'living', 'and', 'dead', 'who', 'struggled', 'here', 'have', 'consecrated', 'it', 'far', 'above', 'our', 'poor', 'power', 'to', 'add', 'or', 'detract', 'the', 'world', 'will', 'little', 'note', 'nor', 'long', 'remember', 'what', 'we', 'say', 'here', 'but', 'it', 'can', 'never', 'forget', 'what', 'they', 'did', 'here', 'it', 'is', 'for', 'us', 'the', 'living', 'rather', 'to', 'be', 'dedicated', 'here', 'to', 'the', 'unfinished', 'work', 'which', 'they', 'who', 'fought', 'here', 'have', 'thus', 'far', 'so', 'nobly', 'advanced', 'it', 'is', 'rather', 'for', 'us', 'to', 'be', 'here', 'dedicated', 'to', 'the', 'great', 'task', 'remaining', 'before', 'us', 'that', 'from', 'these', 'honored', 'dead', 'we', 'take', 'increased', 'devotion', 'to', 'that', 'cause', 'for', 'which', 'they', 'gave', 'the', 'last', 'full', 'measure', 'of', 'devotion', 'that', 'we', 'here', 'highly', 'resolve', 'that', 'these', 'dead', 'shall', 'not', 'have', 'died', 'in', 'vain', 'that', 'this', 'nation', 'under', 'god', 'shall', 'have', 'a', 'new', 'birth', 'of', 'freedom', 'and', 'that', 'government', 'of', 'the', 'people', 'by', 'the', 'people', 'for', 'the', 'people', 'shall', 'not', 'perish', 'from', 'the', 'earth']\n",
      "Speech Length:  271\n",
      "\n",
      "\n",
      "\n",
      "['four', 'score', 'and', 'seven', 'years', 'ago', 'our', 'fathers', 'brought', 'forth', 'on', 'this', 'continent', 'a', 'new', 'nation', 'conceived', 'in', 'liberty', 'dedicated', 'to', 'the', 'proposition', 'that', 'all', 'men', 'are', 'created', 'equal', 'now', 'we', 'engaged', 'great', 'civil', 'war', 'testing', 'whether', 'or', 'any', 'so', 'can', 'long', 'endure', 'met', 'battlefield', 'of', 'have', 'come', 'dedicate', 'portion', 'field', 'as', 'final', 'resting', 'place', 'for', 'those', 'who', 'here', 'gave', 'their', 'lives', 'might', 'live', 'it', 'is', 'altogether', 'fitting', 'proper', 'should', 'do', 'but', 'larger', 'sense', 'not', 'consecrate', 'hallow', 'ground', 'brave', 'living', 'dead', 'struggled', 'consecrated', 'far', 'above', 'poor', 'power', 'add', 'detract', 'world', 'will', 'little', 'note', 'nor', 'remember', 'what', 'say', 'never', 'forget', 'they', 'did', 'us', 'rather', 'be', 'unfinished', 'work', 'which', 'fought', 'thus', 'nobly', 'advanced', 'task', 'remaining', 'before', 'from', 'these', 'honored', 'take', 'increased', 'devotion', 'cause', 'last', 'full', 'measure', 'highly', 'resolve', 'shall', 'died', 'vain', 'under', 'god', 'birth', 'freedom', 'government', 'people', 'by', 'perish', 'earth']\n",
      "Unique Length:  138\n"
     ]
    }
   ],
   "source": [
    "# Copyright 2017, 2013, 2011 Pearson Education, Inc., W.F. Punch & R.J.Enbody\n",
    "# Gettysburg address analysis\n",
    "# count words, unique words\n",
    "\n",
    "def make_word_list(a_file):\n",
    "    \"\"\"Create a list of words from the file.\"\"\"\n",
    "    word_list = []      # list of speech words: initialized to be empty\n",
    "\n",
    "    for line_str in a_file:           # read file line by line\n",
    "        line_list = line_str.split()  # split each line into a list of words\n",
    "        for word in line_list:        # get words one at a time from list\n",
    "            word = word.lower()       # make words lower case\n",
    "            word = word.strip('.,')   # strip off commas and periods            \n",
    "            if word != \"--\":          # if the word is not \"--\"\n",
    "                word_list.append(word)   # add the word to the speech list\n",
    "    return word_list\n",
    "\n",
    "def make_unique(word_list):\n",
    "    \"\"\"Create a list of unique words.\"\"\"\n",
    "    unique_list = []  # list of unique words: initialized to be empty\n",
    "\n",
    "    for word in word_list:        # get words one at a time from speech\n",
    "        if word not in unique_list: # if word is not already in unique list,\n",
    "            unique_list.append(word)# add word to unique list\n",
    "\n",
    "    return unique_list\n",
    "\n",
    "\n",
    "################################\n",
    "                \n",
    "gba_file = open(\"gettysburg.txt\", \"r\")\n",
    "speech_list = make_word_list(gba_file)\n",
    "print(\"Speech words = \", speech_list)\n",
    "print(\"Speech Length: \", len(speech_list))\n",
    "unique_list = make_unique(speech_list)\n",
    "# print the speech and its lengths\n",
    "print(\"\\n\\n\")\n",
    "print(unique_list)          \n",
    "print(\"Unique Length: \", len(make_unique(unique_list)))"
   ]
  },
  {
   "cell_type": "markdown",
   "metadata": {},
   "source": [
    "### More on Mutability\n",
    "\n",
    "<img src=\"../images/chapter7/Slide45.jpg\">\n",
    "<img src=\"../images/chapter7/Slide46.jpg\">\n",
    "<img src=\"../images/chapter7/Slide47.jpg\">\n",
    "<img src=\"../images/chapter7/Slide48.jpg\">\n",
    "<img src=\"../images/chapter7/Slide49.jpg\">\n",
    "<img src=\"../images/chapter7/Slide50.jpg\">\n",
    "<img src=\"../images/chapter7/Slide51.jpg\">\n",
    "<img src=\"../images/chapter7/Slide52.jpg\">\n",
    "<img src=\"../images/chapter7/Slide53.jpg\">\n",
    "<img src=\"../images/chapter7/Slide54.jpg\">\n",
    "<img src=\"../images/chapter7/Slide55.jpg\">\n",
    "\n",
    "<img src=\"../images/chapter7/Slide56.jpg\">\n",
    "<img src=\"../images/chapter7/Slide57.jpg\">\n",
    "<img src=\"../images/chapter7/Slide58.jpg\">\n",
    "<img src=\"../images/chapter7/Slide59.jpg\">\n",
    "<img src=\"../images/chapter7/Slide60.jpg\">\n"
   ]
  },
  {
   "cell_type": "code",
   "execution_count": 9,
   "metadata": {},
   "outputs": [
    {
     "name": "stdout",
     "output_type": "stream",
     "text": [
      "C_list =  [1, 2, 3, [4, 5, 6]]\n"
     ]
    }
   ],
   "source": [
    "a_list = [1,2,3]\n",
    "b_list = [4,5,6]\n",
    "a_list.append(b_list)\n",
    "c_list = a_list\n",
    "print(\"C_list = \", c_list)"
   ]
  },
  {
   "cell_type": "code",
   "execution_count": 10,
   "metadata": {},
   "outputs": [
    {
     "name": "stdout",
     "output_type": "stream",
     "text": [
      "C_list =  [1, 2, 3, [4, 5, 'foo']]\n"
     ]
    }
   ],
   "source": [
    "b_list[2] = \"foo\"\n",
    "print(\"C_list = \", c_list)"
   ]
  },
  {
   "cell_type": "code",
   "execution_count": 11,
   "metadata": {},
   "outputs": [
    {
     "name": "stdout",
     "output_type": "stream",
     "text": [
      "C_list =  [1, 2, 3, [4, 5, 'foo']]\n"
     ]
    }
   ],
   "source": [
    "import copy\n",
    "c_list = copy.deepcopy(a_list)\n",
    "print(\"C_list = \", c_list)"
   ]
  },
  {
   "cell_type": "code",
   "execution_count": 12,
   "metadata": {},
   "outputs": [],
   "source": [
    "a_list[0]='Cat'\n",
    "a_list[3][0]=\"Begin\""
   ]
  },
  {
   "cell_type": "code",
   "execution_count": 13,
   "metadata": {},
   "outputs": [
    {
     "name": "stdout",
     "output_type": "stream",
     "text": [
      "B_list =  ['Begin', 5, 'foo']\n"
     ]
    }
   ],
   "source": [
    "print(\"B_list = \", b_list)"
   ]
  },
  {
   "cell_type": "code",
   "execution_count": null,
   "metadata": {},
   "outputs": [],
   "source": [
    "print(\"C_list = \", c_list)"
   ]
  },
  {
   "cell_type": "markdown",
   "metadata": {},
   "source": [
    "### Tuples\n",
    "\n",
    "<img src=\"../images/chapter7/Slide62.jpg\">\n",
    "<img src=\"../images/chapter7/Slide63.jpg\">\n",
    "<img src=\"../images/chapter7/Slide64.jpg\">\n",
    "<img src=\"../images/chapter7/Slide65.jpg\">\n",
    "\n"
   ]
  },
  {
   "cell_type": "markdown",
   "metadata": {},
   "source": [
    "### Data Structures\n",
    "\n",
    "<img src=\"../images/chapter7/slide67.jpg\">\n",
    "<img src=\"../images/chapter7/slide68.jpg\">\n"
   ]
  },
  {
   "cell_type": "markdown",
   "metadata": {},
   "source": [
    "### Lists and Python, Comprehensives\n",
    "\n",
    "<img src=\"../images/chapter7/Slide71.jpg\">\n",
    "<img src=\"../images/chapter7/Slide72.jpg\">\n",
    "\n",
    "<img src=\"../images/chapter7/Slide73.jpg\">\n",
    "<img src=\"../images/chapter7/Slide74.jpg\">\n",
    "\n",
    "<img src=\"../images/chapter7/Slide75.jpg\">\n"
   ]
  },
  {
   "cell_type": "code",
   "execution_count": 2,
   "metadata": {},
   "outputs": [],
   "source": [
    "_letters = [chr(a) for a in range(ord('a'), ord('z')+1)]"
   ]
  },
  {
   "cell_type": "code",
   "execution_count": 3,
   "metadata": {},
   "outputs": [
    {
     "data": {
      "text/plain": [
       "['a',\n",
       " 'b',\n",
       " 'c',\n",
       " 'd',\n",
       " 'e',\n",
       " 'f',\n",
       " 'g',\n",
       " 'h',\n",
       " 'i',\n",
       " 'j',\n",
       " 'k',\n",
       " 'l',\n",
       " 'm',\n",
       " 'n',\n",
       " 'o',\n",
       " 'p',\n",
       " 'q',\n",
       " 'r',\n",
       " 's',\n",
       " 't',\n",
       " 'u',\n",
       " 'v',\n",
       " 'w',\n",
       " 'x',\n",
       " 'y',\n",
       " 'z']"
      ]
     },
     "execution_count": 3,
     "metadata": {},
     "output_type": "execute_result"
    }
   ],
   "source": [
    "_letters"
   ]
  },
  {
   "cell_type": "code",
   "execution_count": null,
   "metadata": {},
   "outputs": [],
   "source": []
  },
  {
   "cell_type": "code",
   "execution_count": null,
   "metadata": {},
   "outputs": [],
   "source": []
  }
 ],
 "metadata": {
  "celltoolbar": "Raw Cell Format",
  "kernelspec": {
   "display_name": "Python 3",
   "language": "python",
   "name": "python3"
  },
  "language_info": {
   "codemirror_mode": {
    "name": "ipython",
    "version": 3
   },
   "file_extension": ".py",
   "mimetype": "text/x-python",
   "name": "python",
   "nbconvert_exporter": "python",
   "pygments_lexer": "ipython3",
   "version": "3.6.3"
  },
  "toc": {
   "nav_menu": {},
   "number_sections": true,
   "sideBar": true,
   "skip_h1_title": false,
   "title_cell": "Table of Contents",
   "title_sidebar": "Contents",
   "toc_cell": false,
   "toc_position": {},
   "toc_section_display": true,
   "toc_window_display": false
  }
 },
 "nbformat": 4,
 "nbformat_minor": 2
}
