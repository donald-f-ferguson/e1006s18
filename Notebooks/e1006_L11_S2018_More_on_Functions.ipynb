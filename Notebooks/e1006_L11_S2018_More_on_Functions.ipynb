{
 "cells": [
  {
   "cell_type": "markdown",
   "metadata": {},
   "source": [
    "<h1 style=\"display:none;\">\n",
    "<h1 style=\"display:none;\">\n",
    "<h1 style=\"display:none;\">\n",
    "<h1 style=\"display:none;\">\n",
    "<h1 style=\"display:none;\">\n",
    "<h1 style=\"display:none;\">\n",
    "<h1 style=\"display:none;\">\n",
    "<h1 style=\"display:none;\">\n",
    "<h1 style=\"display:none;\">\n",
    "<h1 style=\"display:none;\">\n",
    "\n",
    "# Introduction to Computing for Engineers and Computer Scientists<BR><BR>Chapters 8: More on Functions"
   ]
  },
  {
   "cell_type": "markdown",
   "metadata": {},
   "source": [
    "## Questions, Discussion\n",
    "\n",
    "### From Class\n",
    "\n",
    "### Piazza"
   ]
  },
  {
   "cell_type": "markdown",
   "metadata": {},
   "source": [
    "### Homework 3"
   ]
  },
  {
   "cell_type": "markdown",
   "metadata": {},
   "source": [
    "## Functions\n",
    "\n",
    "### Scope and Parameters\n",
    "\n",
    "<img src=\"../images/chapter8/Slide02.jpg\">\n",
    "<img src=\"../images/chapter8/Slide03.jpg\">\n",
    "<img src=\"../images/chapter8/Slide04.jpg\">\n",
    "<img src=\"../images/chapter8/Slide05.jpg\">\n",
    "<img src=\"../images/chapter8/Slide06.jpg\">\n",
    "<img src=\"../images/chapter8/Slide07.jpg\">\n",
    "<img src=\"../images/chapter8/Slide08.jpg\">\n",
    "<img src=\"../images/chapter8/Slide09.jpg\">\n",
    "<img src=\"../images/chapter8/Slide10.jpg\">"
   ]
  },
  {
   "cell_type": "markdown",
   "metadata": {},
   "source": [
    "<img src=\"../images/chapter8/Slide11.jpg\">\n",
    "<img src=\"../images/chapter8/Slide12.jpg\">\n",
    "<img src=\"../images/chapter8/Slide13.jpg\">\n",
    "<img src=\"../images/chapter8/Slide14.jpg\">\n",
    "<img src=\"../images/chapter8/Slide15.jpg\">"
   ]
  },
  {
   "cell_type": "markdown",
   "metadata": {},
   "source": [
    "<img src=\"../images/chapter8/Slide16.jpg\">\n",
    "<img src=\"../images/chapter8/Slide17.jpg\">\n",
    "<img src=\"../images/chapter8/Slide18.jpg\">\n",
    "<img src=\"../images/chapter8/Slide19.jpg\">\n",
    "<img src=\"../images/chapter8/Slide20.jpg\">"
   ]
  },
  {
   "cell_type": "markdown",
   "metadata": {},
   "source": [
    "<img src=\"../images/chapter8/Slide21.jpg\">\n",
    "<img src=\"../images/chapter8/Slide22.jpg\">"
   ]
  },
  {
   "cell_type": "code",
   "execution_count": 16,
   "metadata": {},
   "outputs": [
    {
     "name": "stdout",
     "output_type": "stream",
     "text": [
      "my_list =  [1, 2, 3]\n",
      "new_list =  ['a', 'b', 1, 2, 3, 4]\n"
     ]
    }
   ],
   "source": [
    "def my_fun(param):\n",
    "    param = ['a', 'b', 1,2,3]\n",
    "    param.append(4)\n",
    "    return param\n",
    "\n",
    "my_list=[1,2,3]\n",
    "new_list=my_fun(my_list)\n",
    "print(\"my_list = \", my_list)\n",
    "print(\"new_list = \", new_list)\n"
   ]
  },
  {
   "cell_type": "markdown",
   "metadata": {},
   "source": [
    "<img src=\"../images/chapter8/Slide23.jpg\">\n",
    "<img src=\"../images/chapter8/Slide24.jpg\">\n",
    "<img src=\"../images/chapter8/Slide25.jpg\">\n",
    "<img src=\"../images/chapter8/Slide26.jpg\">"
   ]
  },
  {
   "cell_type": "code",
   "execution_count": 4,
   "metadata": {},
   "outputs": [
    {
     "name": "stdout",
     "output_type": "stream",
     "text": [
      "my_list =  [1, 2, 3, 4]\n",
      "new_list =  [1, 2, 3, 4]\n"
     ]
    }
   ],
   "source": [
    "def my_fun(param):\n",
    "    param.append(4)\n",
    "    return param\n",
    "\n",
    "my_list=[1,2,3]\n",
    "new_list=my_fun(my_list)\n",
    "print(\"my_list = \", my_list)\n",
    "print(\"new_list = \", new_list)"
   ]
  },
  {
   "cell_type": "markdown",
   "metadata": {},
   "source": [
    "<span style=\"color:red; font-size:32px;LINE-HEIGHT:38px; \">\n",
    "Please, please, please, DO NOT EVER DO THAT! <br>DO NOT CHANGE PARAMETER VALUES!!!\n",
    "</span>"
   ]
  },
  {
   "cell_type": "markdown",
   "metadata": {},
   "source": [
    "<img src=\"../images/chapter8/Slide27.jpg\">\n",
    "<img src=\"../images/chapter8/Slide28.jpg\">\n",
    "<img src=\"../images/chapter8/Slide29.jpg\">\n",
    "<img src=\"../images/chapter8/Slide30.jpg\">"
   ]
  },
  {
   "cell_type": "markdown",
   "metadata": {},
   "source": [
    "<img src=\"../images/chapter8/Slide31.jpg\">\n",
    "<img src=\"../images/chapter8/Slide32.jpg\">\n",
    "<img src=\"../images/chapter8/Slide33.jpg\">\n",
    "<img src=\"../images/chapter8/Slide34.jpg\">"
   ]
  },
  {
   "cell_type": "markdown",
   "metadata": {},
   "source": [
    "<img src=\"../images/chapter8/Slide35.jpg\">\n",
    "<img src=\"../images/chapter8/Slide36.jpg\">"
   ]
  },
  {
   "cell_type": "code",
   "execution_count": 17,
   "metadata": {},
   "outputs": [
    {
     "name": "stdout",
     "output_type": "stream",
     "text": [
      "[1, 2, 3]\n",
      "[1, 2, 3, 4]\n",
      "[1, 2, 3, 4, 27]\n",
      "[27]\n",
      "[27, 27]\n"
     ]
    }
   ],
   "source": [
    "def fn1 (arg1=[], arg2=27):\n",
    "    arg1.append(arg2)\n",
    "    return arg1\n",
    "\n",
    "my_list=[1, 2, 3]\n",
    "print(my_list)\n",
    "print(fn1(my_list,4))\n",
    "print(fn1(my_list,27))\n",
    "print(fn1())\n",
    "print(fn1())"
   ]
  },
  {
   "cell_type": "markdown",
   "metadata": {},
   "source": [
    "<img src=\"../images/chapter8/Slide37.jpg\">\n",
    "<img src=\"../images/chapter8/Slide38.jpg\">"
   ]
  },
  {
   "cell_type": "markdown",
   "metadata": {},
   "source": [
    "### Function as Objects\n",
    "\n",
    "<img src=\"../images/chapter8/Slide39.jpg\">\n",
    "<img src=\"../images/chapter8/Slide40.jpg\">"
   ]
  },
  {
   "cell_type": "code",
   "execution_count": 8,
   "metadata": {},
   "outputs": [],
   "source": [
    "def compute_relative_changes(a_list):\n",
    "    \"\"\"\n",
    "    Computes the relative change between entries i and i+1 in a list.\n",
    "    :param a_list: A list of numbers.\n",
    "    :return: A list containing the relative changes.\n",
    "    \"\"\"\n",
    "    result = []\n",
    "\n",
    "    for i in range(1,len(a_list)):\n",
    "        rel = (a_list[i] - a_list[i-1])/a_list[i-1]\n",
    "        result.append(rel)\n",
    "\n",
    "    return result"
   ]
  },
  {
   "cell_type": "code",
   "execution_count": 37,
   "metadata": {},
   "outputs": [
    {
     "data": {
      "text/plain": [
       "'compute_relative_changes'"
      ]
     },
     "execution_count": 37,
     "metadata": {},
     "output_type": "execute_result"
    }
   ],
   "source": [
    "compute_relative_changes.__name__\n"
   ]
  },
  {
   "cell_type": "code",
   "execution_count": 38,
   "metadata": {},
   "outputs": [
    {
     "data": {
      "text/plain": [
       "'<function compute_relative_changes at 0x10918b488>'"
      ]
     },
     "execution_count": 38,
     "metadata": {},
     "output_type": "execute_result"
    }
   ],
   "source": [
    "compute_relative_changes.__str__()"
   ]
  },
  {
   "cell_type": "code",
   "execution_count": 39,
   "metadata": {},
   "outputs": [
    {
     "name": "stdout",
     "output_type": "stream",
     "text": [
      "\n",
      "    Computes the relative change between entries i and i+1 in a list.\n",
      "    :param a_list: A list of numbers.\n",
      "    :return: A list containing the relative changes.\n",
      "    \n"
     ]
    }
   ],
   "source": [
    "print(compute_relative_changes.__doc__)"
   ]
  },
  {
   "cell_type": "code",
   "execution_count": 40,
   "metadata": {},
   "outputs": [
    {
     "data": {
      "text/plain": [
       "{}"
      ]
     },
     "execution_count": 40,
     "metadata": {},
     "output_type": "execute_result"
    }
   ],
   "source": [
    "compute_relative_changes.__dict__"
   ]
  },
  {
   "cell_type": "code",
   "execution_count": 41,
   "metadata": {},
   "outputs": [],
   "source": [
    "def compute_relative_changes2(a_list):\n",
    "\n",
    "    \"\"\"\n",
    "    Computes the relative change between entries i and i+1 in a list.\n",
    "    :param a_list: A list of numbers.\n",
    "    :return: A list containing the relative changes.\n",
    "    \"\"\"\n",
    "    \n",
    "    result = []\n",
    "\n",
    "    for i in range(1,len(a_list)):\n",
    "        rel = (a_list[i] - a_list[i-1])/a_list[i-1]\n",
    "        result.append(rel)\n",
    "\n",
    "    return result"
   ]
  },
  {
   "cell_type": "code",
   "execution_count": 42,
   "metadata": {},
   "outputs": [
    {
     "data": {
      "text/plain": [
       "{'created_date': '06-Mar-2918', 'iq': 7, 'message': 'Hello'}"
      ]
     },
     "execution_count": 42,
     "metadata": {},
     "output_type": "execute_result"
    }
   ],
   "source": [
    "compute_relative_changes2.__dict__.update({\"message\": \"Hello\"})\n",
    "compute_relative_changes2.created_date = \"06-Mar-2918\"\n",
    "compute_relative_changes2.iq = 7\n",
    "compute_relative_changes2.__dict__"
   ]
  },
  {
   "cell_type": "code",
   "execution_count": 65,
   "metadata": {},
   "outputs": [],
   "source": [
    "def compute_relative_changes2( \\\n",
    "              a_list : { \"msg\": \"list of numbers.\", \"type\": float}) \\\n",
    "    -> { \"type\": None, \"message\" : \"Is None\"}:\n",
    "\n",
    "    \"\"\"\n",
    "    Computes the relative change between entries i and i+1 in a list.\n",
    "    :param a_list: A list of numbers.\n",
    "    :return: A list containing the relative changes.\n",
    "    \"\"\"\n",
    "    \n",
    "    result = []\n",
    "\n",
    "    for i in range(1,len(a_list)):\n",
    "        rel = (a_list[i] - a_list[i-1])/a_list[i-1]\n",
    "        result.append(rel)\n",
    "\n",
    "    return result"
   ]
  },
  {
   "cell_type": "code",
   "execution_count": 66,
   "metadata": {},
   "outputs": [
    {
     "data": {
      "text/plain": [
       "{'a_list': {'msg': 'list of numbers.', 'type': float},\n",
       " 'return': {'message': 'Is None', 'type': None}}"
      ]
     },
     "execution_count": 66,
     "metadata": {},
     "output_type": "execute_result"
    }
   ],
   "source": [
    "compute_relative_changes2.__annotations__"
   ]
  },
  {
   "cell_type": "markdown",
   "metadata": {},
   "source": [
    "<img src=\"../images/chapter8/Slide41.jpg\">\n",
    "<img src=\"../images/chapter8/Slide42.jpg\">\n",
    "<img src=\"../images/chapter8/Slide43.jpg\">\n",
    "<img src=\"../images/chapter8/Slide44.jpg\">\n",
    "<img src=\"../images/chapter8/Slide45.jpg\">"
   ]
  },
  {
   "cell_type": "code",
   "execution_count": 13,
   "metadata": {},
   "outputs": [],
   "source": [
    "# Copyright 2017, 2013, 2011 Pearson Education, Inc., W.F. Punch & R.J.Enbody\n",
    "def weighted_grade(score_list, weights_tuple=(0.3,0.3,0.4)):\n",
    "    '''Expects 3 elements in score_list. Multiples each grade\n",
    "    by its weight. Returns the sum.'''\n",
    "    grade_float = \\\n",
    "        (score_list[0]*weights_tuple[0]) +\\\n",
    "        (score_list[1]*weights_tuple[1]) +\\\n",
    "        (score_list[2]*weights_tuple[2])\n",
    "    return grade_float\n"
   ]
  },
  {
   "cell_type": "code",
   "execution_count": 14,
   "metadata": {},
   "outputs": [],
   "source": [
    "# Copyright 2017, 2013, 2011 Pearson Education, Inc., W.F. Punch & R.J.Enbody\n",
    "def parse_line(line_str):\n",
    "    '''Expects a line of form last, first, exam1, exam2, final.\n",
    "    returns a tuple containing first+last and list of scores.'''\n",
    "    field_list = line_str.strip().split(',')\n",
    "    name_str = field_list[1] + ' ' + field_list[0]\n",
    "    score_list = []\n",
    "    # gather the scores, now strings, as a list of ints\n",
    "    for element in field_list[2:]:\n",
    "        score_list.append(int(element))\n",
    "    return name_str,score_list"
   ]
  },
  {
   "cell_type": "code",
   "execution_count": 12,
   "metadata": {},
   "outputs": [],
   "source": [
    "# Copyright 2017, 2013, 2011 Pearson Education, Inc., W.F. Punch & R.J.Enbody\n",
    "def main ():\n",
    "    '''Get a line_str from the file, print the final grade nicely.'''\n",
    "    file_name = input('Open what file:')\n",
    "    grade_file = open(file_name, 'r')\n",
    "    print('{:>13s}  {:>15s}'.format('Name','Grade'))\n",
    "    print('-'*30)\n",
    "    for line_str in grade_file:\n",
    "        name_str,score_list = parse_line(line_str)\n",
    "        grade_float = weighted_grade(score_list)\n",
    "        print('{:>15s} {:14.2f} '.format(name_str, grade_float))\n"
   ]
  },
  {
   "cell_type": "code",
   "execution_count": 15,
   "metadata": {},
   "outputs": [
    {
     "name": "stdout",
     "output_type": "stream",
     "text": [
      "Open what file:../data/grades.csv\n",
      "         Name            Grade\n",
      "------------------------------\n",
      "   Mickey Mouse          10.00 \n",
      "    Donald Duck           8.10 \n",
      " Scrooge McDuck           6.10 \n"
     ]
    }
   ],
   "source": [
    "main()"
   ]
  },
  {
   "cell_type": "markdown",
   "metadata": {},
   "source": [
    "\n",
    "<img src=\"../images/chapter8/Slide52.jpg\">\n",
    "<img src=\"../images/chapter8/Slide53.jpg\">\n",
    "<img src=\"../images/chapter8/Slide54.jpg\">\n"
   ]
  },
  {
   "cell_type": "code",
   "execution_count": 20,
   "metadata": {},
   "outputs": [
    {
     "name": "stdout",
     "output_type": "stream",
     "text": [
      "x =  [1, 3, 4, 5]\n",
      "y =  None\n"
     ]
    }
   ],
   "source": [
    "x = [1, 2, 3, 4, 5]\n",
    "y = x.remove(2)\n",
    "print(\"x = \", x)\n",
    "print(\"y = \", y)"
   ]
  },
  {
   "cell_type": "code",
   "execution_count": 22,
   "metadata": {},
   "outputs": [
    {
     "name": "stdout",
     "output_type": "stream",
     "text": [
      "x =  ['a', 'b', 'd', 'e']\n",
      "y =  c\n"
     ]
    }
   ],
   "source": [
    "x = ['a', 'b', 'c', 'd', 'e']\n",
    "y = x.pop(2)\n",
    "print(\"x = \", x)\n",
    "print(\"y = \", y)"
   ]
  },
  {
   "cell_type": "code",
   "execution_count": 23,
   "metadata": {},
   "outputs": [
    {
     "name": "stdout",
     "output_type": "stream",
     "text": [
      "x =  ['a', 'b', 'c', 'd', 'e', 'cat']\n"
     ]
    }
   ],
   "source": [
    "x = ['a', 'b', 'c', 'd', 'e']\n",
    "x.append(\"cat\")\n",
    "print(\"x = \", x)"
   ]
  },
  {
   "cell_type": "code",
   "execution_count": 28,
   "metadata": {},
   "outputs": [
    {
     "name": "stdout",
     "output_type": "stream",
     "text": [
      "I deleted the 2nd element. x =  ['a', 'c', 'd', 'e'] \b. But I do not know what I removed. Just where it was.\n",
      "b is the second element in y. I removed it and y =  ['a', 'c', 'd', 'e']\n"
     ]
    }
   ],
   "source": [
    "x = ['a', 'b', 'c', 'd', 'e']\n",
    "y = ['a', 'b', 'c', 'd', 'e']\n",
    "x.pop(1)\n",
    "print(\"I deleted the 2nd element. x = \", x, \"\\b. But I do not know what I removed. Just where it was.\")\n",
    "\n",
    "z = y[1]\n",
    "y = y[:1] + y[2:]\n",
    "print(z, \"is the second element in y. I removed it and y = \", y)\n"
   ]
  },
  {
   "cell_type": "code",
   "execution_count": 35,
   "metadata": {},
   "outputs": [
    {
     "name": "stdout",
     "output_type": "stream",
     "text": [
      "my_list =  [1, 2, 3, 4, 5]\n",
      "my_list_1 =  [1, 2, 3, 4, 5, 6]\n",
      "my_list_2 =  ['Hello', 2, 3, 4, 5]\n"
     ]
    }
   ],
   "source": [
    "my_list = [1,2,3,4,5]\n",
    "\n",
    "my_list_1 = my_list[:]\n",
    "my_list_1.append(6)\n",
    "\n",
    "my_list_2 = my_list[:]\n",
    "my_list_2[0] = \"Hello\"\n",
    "\n",
    "print(\"my_list = \", my_list)\n",
    "print(\"my_list_1 = \", my_list_1)\n",
    "print(\"my_list_2 = \", my_list_2)"
   ]
  },
  {
   "cell_type": "code",
   "execution_count": null,
   "metadata": {},
   "outputs": [],
   "source": []
  }
 ],
 "metadata": {
  "kernelspec": {
   "display_name": "Python 3",
   "language": "python",
   "name": "python3"
  },
  "language_info": {
   "codemirror_mode": {
    "name": "ipython",
    "version": 3
   },
   "file_extension": ".py",
   "mimetype": "text/x-python",
   "name": "python",
   "nbconvert_exporter": "python",
   "pygments_lexer": "ipython3",
   "version": "3.6.3"
  },
  "toc": {
   "nav_menu": {},
   "number_sections": true,
   "sideBar": true,
   "skip_h1_title": false,
   "title_cell": "Table of Contents",
   "title_sidebar": "Contents",
   "toc_cell": false,
   "toc_position": {},
   "toc_section_display": true,
   "toc_window_display": false
  }
 },
 "nbformat": 4,
 "nbformat_minor": 2
}
