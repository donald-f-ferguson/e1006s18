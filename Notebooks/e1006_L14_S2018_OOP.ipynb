{
 "cells": [
  {
   "cell_type": "markdown",
   "metadata": {},
   "source": [
    "<h1 style=\"display:none;\">\n",
    "<h1 style=\"display:none;\">\n",
    "<h1 style=\"display:none;\">\n",
    "<h1 style=\"display:none;\">\n",
    "<h1 style=\"display:none;\">\n",
    "<h1 style=\"display:none;\">\n",
    "<h1 style=\"display:none;\">\n",
    "<h1 style=\"display:none;\">\n",
    "<h1 style=\"display:none;\">\n",
    "<h1 style=\"display:none;\">\n",
    "<h1 style=\"display:none;\">\n",
    "<h1 style=\"display:none;\">\n",
    "<h1 style=\"display:none;\">\n",
    "\n",
    "# Introduction to Computing for Engineers and Computer Scientists<BR><BR>Intro to Object Oriented Programming"
   ]
  },
  {
   "cell_type": "code",
   "execution_count": 1,
   "metadata": {},
   "outputs": [
    {
     "name": "stdout",
     "output_type": "stream",
     "text": [
      "__main__\n"
     ]
    }
   ],
   "source": [
    "print(__name__)"
   ]
  },
  {
   "cell_type": "markdown",
   "metadata": {},
   "source": [
    "## Questions, Discussion\n",
    "\n",
    "### Piazza\n",
    "\n",
    "### From Class"
   ]
  },
  {
   "cell_type": "markdown",
   "metadata": {},
   "source": [
    "## A Diversions $-$ Graphical User Interface versus Command Line Interface\n",
    "\n",
    "### Overview\n",
    "\n",
    "- Web based interfaces $-$ Punch and Enbody\n",
    "    - Appendix E\n",
    "    - Sections 4.9, 6.8, 7.13, 9.10, 10.7, 15.7\n",
    "    \n",
    "    \n",
    "- There are many other types of GUI, e.g. mobile UI, complex graphical interaction, etc.\n",
    "    \n",
    "| <img src=\"../images/cli-gui.jpeg\"> |\n",
    "| :---: |\n",
    "| __GUI versus CLI__ |\n"
   ]
  },
  {
   "cell_type": "markdown",
   "metadata": {},
   "source": [
    "- Punch and Embody (textbook) has small sections on _graphical user interface,_ e.g. section 4.9, 7.13, 9.10.\n",
    "\n",
    "\n",
    "- GUI concept<br><br>\n",
    "    \"The graphical user interface (GUI), is a type of user interface that allows users to interact with electronic devices through graphical icons and visual indicators such as secondary notation, instead of text-based user interfaces, typed command labels or text navigation. GUIs were introduced in reaction to the perceived steep learning curve of command-line interfaces (CLIs), which require commands to be typed on a computer keyboard.\" (https://en.wikipedia.org/wiki/Graphical_user_interface)\n",
    "    \n"
   ]
  },
  {
   "cell_type": "markdown",
   "metadata": {},
   "source": [
    "- The command line (terminal window) is an evolution of (video) [computer terminal.](https://en.wikipedia.org/wiki/Computer_terminal)\n",
    "\n",
    "\n",
    "- The video computer terminal was a significant improvement over the prior technology -- [punched cards.](https://en.wikipedia.org/wiki/Punched_card_input/output)\n",
    "\n",
    "| <img src=\"../images/terminal.jpeg\"> |\n",
    "| :---: |\n",
    "| __Terminal and Punched Card__ |\n",
    "\n",
    "- When I was your age, I had to walk up hill (both ways), in the snow to ask the rich kids if I could use their computer terminal.\n",
    "\n",
    "\n",
    "- All of the ```print(\"text {<3: } text\", x)```  formatting stuff for print statements you see in the textbook is primarily for CLIs."
   ]
  },
  {
   "cell_type": "markdown",
   "metadata": {},
   "source": [
    "### Native Interface, Web Interface, Hybrid, and the Course TextBook\n",
    "\n",
    "| <img src=\"../images/native-mobile.jpg\"> |\n",
    "| :---: |\n",
    "| [__Browser and Native Applications__](https://www.ibm.com/support/knowledgecenter/SSZH4A_5.0.5/com.ibm.worklight.help.doc/devref/Pictures/app_types.jpg) |\n",
    "\n",
    "- Modern graphical user interfaces fall into a few categories\n",
    "    - Browser based: Application runs in the browser and loads content.\n",
    "    - Native: All code, graphical elements, etc. are on the system in system specific code.\n",
    "    - Mixed/Hybrid\n",
    "    "
   ]
  },
  {
   "cell_type": "markdown",
   "metadata": {},
   "source": [
    "| <img src=\"../images/native-mobile-2.jpg\"> |\n",
    "| :---: |\n",
    "| [__Browser versus Native Applications__](https://www.designzzz.com/wp-content/uploads/2015/05/native_apps_or_web_apps_infographic.jpg) |"
   ]
  },
  {
   "cell_type": "markdown",
   "metadata": {},
   "source": [
    "- The GUI examples in the textbook are browser applications.\n",
    "    - The web server runs all of the code.\n",
    "    - Generates HTML that the browser renders, including any application data.\n",
    "\n",
    "\n",
    "| <img src=\"../images/book-gui.jpeg\"> |\n",
    "| :---: |\n",
    "| __Textbook GUI Samples__ |\n"
   ]
  },
  {
   "cell_type": "markdown",
   "metadata": {},
   "source": [
    "- This approach is dated.\n",
    "    - All application logic executes on \"the server\" and the browser just \"renders.\"\n",
    "    - The application is aware of the GUI and technology.\n",
    "    \n",
    "    \n",
    "- More modern web applications take a different approach.\n",
    "    - The back-end application surfaces a callable API, e.g. check_word from HW3.\n",
    "    - There is significant application code, usually in JavaScript, running in the browser.\n",
    "    \n",
    "\n",
    "| <img src=\"../images/mvc.jpeg\"> |\n",
    "| :---: |\n",
    "| __Web Model-View-Controller (MVC)__ |"
   ]
  },
  {
   "cell_type": "markdown",
   "metadata": {},
   "source": [
    "- I want to give you some experience with modern web applications.\n",
    "\n",
    "\n",
    "- The version of the HW3 UI I have been building\n",
    "    - Has very simple functionality\n",
    "    - But pulls in a lot of enabling technology, e.g.\n",
    "        - [Angular JS](https://angularjs.org/)\n",
    "        - [Material Design Lite] (https://getmdl.io/)\n",
    "        - Some pretty large, complicated HTML and CSS files.\n",
    "    - And getting Flask set up to deliver these is relatively simple for me, but you would probably not enjoy it much.\n",
    "    \n",
    "    \n",
    "| <img src=\"../images/hw3-gui.jpeg\"> |\n",
    "| :---: |\n",
    "| __HW3 GUI__ |"
   ]
  },
  {
   "cell_type": "markdown",
   "metadata": {},
   "source": [
    "- So, we will go with something simpler, less visually appealing but that demonstrates the concepts."
   ]
  },
  {
   "cell_type": "markdown",
   "metadata": {},
   "source": [
    "### Simplified HW3 GUI\n",
    "\n",
    "#### Overview\n",
    "\n",
    "| <img src=\"../images/hw3-ui-simple.jpeg\">\n",
    "| :---: |\n",
    "| __Simplified HW3 GUI__ |"
   ]
  },
  {
   "cell_type": "markdown",
   "metadata": {},
   "source": [
    "- Appendix E explains [__Python Flask__](http://flask.pocoo.org/)\n",
    "\n",
    "\n",
    "- Flask is a micro web framework written in Python (https://en.wikipedia.org/wiki/Flask_(web_framework))\n",
    "\n",
    "\n",
    "- A web framework (WF) or web application framework (WAF) is a software framework that is designed to support the development of web applications including web services, web resources, and web APIs. Web frameworks provide a standard way to build and deploy web applications. Web frameworks aim to automate the overhead associated with common activities performed in web development. For example, many web frameworks provide libraries for database access, templating frameworks, and session management, and they often promote code reuse. Although they often target development of dynamic web sites, they are also applicable to static websites. (https://en.wikipedia.org/wiki/Web_framework)\n",
    "\n",
    "\n",
    "- [Django](https://www.djangoproject.com/) is more powerful and equally popular Python web framework.\n",
    "\n",
    "\n",
    "- A lot of the projects I led at IBM, e.g. J2EE, WebSphere, started and evolved from web frameworks."
   ]
  },
  {
   "cell_type": "markdown",
   "metadata": {},
   "source": [
    "#### Web Application\n",
    "\n",
    "- There are a lot of tutorials in addition to the textbook. Images below are from [Learning How to Build a Web Application](https://medium.com/@rchang/learning-how-to-build-a-web-application-c5499bd15c8f)\n",
    "\n",
    "- Basic concept\n",
    "\n",
    "| <img src=\"../images/flask1.png\"> |\n",
    "| --- |\n",
    "| __Web Application Overview__ |\n",
    "\n",
    "\n",
    "- More detail\n",
    "\n",
    "| <img src=\"../images/flask2.jpeg\"> |\n",
    "| --- |\n",
    "| __Web Application Architecture__ |"
   ]
  },
  {
   "cell_type": "markdown",
   "metadata": {},
   "source": [
    "#### Our (Your) Implementation\n",
    "\n",
    "- We will not use the Flask HTML templates or Flask controller model (code list 4.5, pp 230, 231)\n",
    "\n",
    "```\n",
    "# html page is the view.\n",
    "page = '''\n",
    "<html>\n",
    "   <head>\n",
    "      <title> Palindrome Calculation</title>\n",
    "   </head>\n",
    "\n",
    "   <body>\n",
    "      <h1>Check if a String is a Palindrome</h1>\n",
    "\n",
    "      <form method=post action=\"\">\n",
    "         Hello String Fans!\n",
    "      <br>\n",
    "      Enter a string\n",
    "         {{ template_form.text_field }}\n",
    "      <br>\n",
    "         {% if result != None %}\n",
    "            {{ result }}\n",
    "         {% endif %}\n",
    "      <br>\n",
    "        <input type=submit value=calculate>\n",
    "      </form>\n",
    "      \n",
    "   </body>\n",
    "</html>\n",
    "'''\n",
    "\n",
    "# InputForm and below is our controller\n",
    "\n",
    "# form with a single TextField\n",
    "class InputForm(Form):\n",
    "    text_field = TextField(validators=[validators.InputRequired()])\n",
    "\n",
    "@app.route('/', methods=['GET', 'POST'])\n",
    "def index():\n",
    "    palindrome_result = None\n",
    "    form = InputForm(request.form)\n",
    "    if request.method == 'POST' and form.validate():\n",
    "        input_val = form.text_field.data\n",
    "        palindrome_result = compute(input_val)\n",
    "    return render_template_string(page, template_form=form, result = palindrome_result)\n",
    "\n",
    "```"
   ]
  },
  {
   "cell_type": "markdown",
   "metadata": {},
   "source": []
  },
  {
   "cell_type": "markdown",
   "metadata": {},
   "source": [
    "#### Optional Homework GUIs $-$ Structure\n"
   ]
  },
  {
   "cell_type": "markdown",
   "metadata": {},
   "source": [
    "| <img src=\"../images/extra_credit_2.jpeg\"> |\n",
    "| :---: |\n",
    "| __Extra Credit Assignment 2: Structure__ |\n",
    "\n",
    "- You will need to install [Flask](https://pypi.python.org/pypi/Flask/0.12.2) for this project.\n",
    "    - You can install via ```pip install flask```\n",
    "    - You may have to install via ```conda install flask``` if Anaconda is your primary Python environment.\n",
    "    - There is an overview of Flask in Appendix E of Punch and Enbody.\n",
    "\n",
    "\n",
    "- I have uploaded a zip file containing the starting files for the extra-credit assignment.\n",
    "    - /web/static contains the UI code that executes in the browser.\n",
    "        - Embedded images.\n",
    "        - HTML page that defines and lays out the UI page.\n",
    "        - CSS styles that customizes appearance of HTML elements, e.g. font color, size, layout options, etc.\n",
    "        - JavaScript, AngularJS controller that integrates view layer with backend web application.\n",
    "    - first_web_app.py: Python layer that accepts and routes REST web API requests.\n",
    "    - unit_test.py: Unit tests application layer.\n",
    "    "
   ]
  },
  {
   "cell_type": "markdown",
   "metadata": {},
   "source": [
    "- You will implement and integrate the _application layer_ and _data access/database layer._\n",
    "    - The core of the extra credit assignment is your HW3 code that implements the application layer.\n",
    "        - Separate, callable Python file.\n",
    "        - Two functions that the web integration layer calls.\n",
    "        \n",
    "```\n",
    "##############################################################################################################\n",
    "# These are the two functions you will write.\n",
    "# You will implement in a separate Python file and access via an import statement.\n",
    "\n",
    "# 1. Check a dictionary to determine if word is correctly spelled.\n",
    "# 2. If not, call a set of functions that generate \"near by, correctly spelled words.\"\n",
    "def check_word(word):\n",
    "    return correct_functions.check_and_suggest_word(word)\n",
    "\n",
    "\n",
    "# The user selected a correction, or entered a new correct spelling.\n",
    "# We will record the correct spelling and score as a possible common correction for user.\n",
    "def update_corrections(original_word, corrected_word):\n",
    "    # Your code goes here.\n",
    "    return correct_functions.update_corrections(original_word, corrected_word)\n",
    "\n",
    "# End of where your code will go.\n",
    "##############################################################################################################\n",
    "```\n",
    "- Data layer\n",
    "    - The \"database\" with be the dictionary.csv file.\n",
    "    - You will separate dictionary load/read/update/save code into a separate dictionary_data.py file. The correct_functions file (module) will call the DB interface code.\n",
    "    - This implements the _Data Access Object Pattern._\n",
    "        - This is \"historically\" a J2EE pattern, but the concept applies in general.\n",
    "        - Allows database engine and format to evolve without impacting application logic."
   ]
  },
  {
   "cell_type": "markdown",
   "metadata": {},
   "source": [
    "| <img src=\"../images/dao.jpg\"> |\n",
    "| :---: |\n",
    "| [__Data Access Object Pattern__](https://www.geeksforgeeks.org/data-access-object-pattern/)"
   ]
  },
  {
   "cell_type": "markdown",
   "metadata": {},
   "source": [
    "- BusinessObject : The BusinessObject represents the data client. It is the object that requires access to the data source to obtain and store data. This is the ```correction_functions.py``` code in your program.\n",
    "\n",
    "\n",
    "- DataAccessObject : The DataAccessObject is the primary object of this pattern. The DataAccessObject abstracts the underlying data access implementation for the BusinessObject to enable transparent access to the data source. This is the ```dictionary_data.py``` file in your implementation.\n",
    "\n",
    "\n",
    "- DataSource : This represents a data source implementation. A data source could be a database such as an RDBMS, OODBMS, XML repository, flat file system, and so forth. A data source can also be another system service or some kind of repository. This is the file system, CSV reader/writer in your example. __I will later demonstrate switching to the extra credit 1 dictionary implementation, and switching to a relational databases FYI.__\n",
    "\n",
    "\n",
    "- TransferObject : This represents a Transfer Object used as a data carrier. The DataAccessObject may use a Transfer Object to return data to the client (application BO). The DataAccessObject may also receive the data from the client (application BO) in a Transfer Object to update the data in the data source. This is simply the dictionary entry in your implementation."
   ]
  },
  {
   "cell_type": "markdown",
   "metadata": {},
   "source": [
    "#### Demo and Code Walk-through\n",
    "\n",
    "__Note:__ Source code is in zip file."
   ]
  },
  {
   "cell_type": "markdown",
   "metadata": {},
   "source": [
    "- Demo\n",
    "    - User Interface\n",
    "    - REST API\n",
    "    \n",
    "__Web Application:__\n",
    "    - Line-by-line walk-through.\n",
    "    - This is quick, dirty and too simple.\n",
    "    - We may find bugs or changes I need to make."
   ]
  },
  {
   "cell_type": "code",
   "execution_count": null,
   "metadata": {},
   "outputs": [],
   "source": [
    "# Copyright 2017, 2013, 2011 Pearson Education, Inc., W.F. Punch & R.J.Enbody\n",
    "# Modified by Donald F. Ferguson, Columbia University, 2018\n",
    "\n",
    "\n",
    "# Import some frameworks that help us implement a web application.\n",
    "from flask import Flask, request, make_response\n",
    "\n",
    "import string\n",
    "\n",
    "# The external file that implements my check and track correction functions.\n",
    "import correct_functions_new as correct_functions\n",
    "import json\n",
    "\n",
    "\n",
    "##############################################################################################################\n",
    "# These are the two functions you will write.\n",
    "# You will implement in a separate Python file and access via an import statement.\n",
    "\n",
    "# 1. Check a dictionary to determine if word is correctly spelled.\n",
    "# 2. If not, call a set of functions that generate \"near by, correctly spelled words.\"\n",
    "def check_word(word):\n",
    "    return correct_functions.check_and_suggest_word(word)\n",
    "\n",
    "\n",
    "# The user selected a correction, or entered a new correct spelling.\n",
    "# We will record the correct spelling and score as a possible common correction for user.\n",
    "def update_corrections(original_word, corrected_word):\n",
    "    # Your code goes here.\n",
    "    return correct_functions.update_corrections(original_word, corrected_word)\n",
    "\n",
    "# End of where your code will go.\n",
    "##############################################################################################################\n",
    "\n",
    "\n",
    "#\n",
    "# The main running program is the Flask application engine.\n",
    "# We register URL endpoint functions below.\n",
    "# There are some static content directories for serving HTML, CSS, JavaScript, etc.\n",
    "#\n",
    "app = Flask(__name__,\n",
    "            static_url_path='',\n",
    "            static_folder='web/static',\n",
    "            template_folder='web/templates')\n",
    "\n",
    "\n",
    "#\n",
    "# Implements the path /api/check\n",
    "# The only web method is GET.\n",
    "# The query parameters are: word=xxx, where xxx is the word to check.\n",
    "#\n",
    "@app.route('/api/check', methods=['GET'])\n",
    "def api_check():\n",
    "    print(\"input = \", str(request.args))\n",
    "    w = request.args['word']\n",
    "    print(\"Input word = \", w)\n",
    "\n",
    "    result = check_word(w)\n",
    "\n",
    "    print(\"check_word rsp = \", result)\n",
    "\n",
    "    if result == True:\n",
    "        rsp = json.dumps({\"status\" : \"CORRECT\"})\n",
    "        response = make_response(rsp)\n",
    "    else:\n",
    "        rsp = json.dumps({ \"status\" : \"INCORRECT\", \"original\": w, \"suggestions\": result })\n",
    "        print(\"rsp = \", rsp)\n",
    "        response = make_response(rsp)\n",
    "\n",
    "    response.headers['Content-Type'] = 'application/json'\n",
    "\n",
    "    return response\n",
    "\n",
    "\n",
    "#\n",
    "# Implements the path /api/check\n",
    "# The only web method is POST.\n",
    "# The body is JSON and has two elements:\n",
    "# 1. original_word: the word the user checked.\n",
    "# 2. corrected_word: the word the user submitted as a correction.\n",
    "#\n",
    "@app.route('/api/correct', methods=['POST'])\n",
    "def api_correct():\n",
    "\n",
    "    d = request.data\n",
    "    print(\"d = \", d)\n",
    "    d = json.loads(d)\n",
    "\n",
    "\n",
    "    w = d['original_word']\n",
    "    c = d['corrected_word']\n",
    "\n",
    "    #print(\"original = \" + w)\n",
    "    #print(\"corrected = \" + c)\n",
    "    result = update_corrections(w, c)\n",
    "\n",
    "    rsp = { \"msg\": result }\n",
    "    bar = json.dumps(rsp)\n",
    "    response = make_response(bar)\n",
    "    response.headers['Content-Type'] = 'application/json'\n",
    "    print(\"returning\")\n",
    "    return response\n",
    "\n",
    "if __name__ == '__main__':\n",
    "    app.run(debug=True)\n"
   ]
  },
  {
   "cell_type": "markdown",
   "metadata": {},
   "source": [
    "__HTML UI File__"
   ]
  },
  {
   "cell_type": "code",
   "execution_count": null,
   "metadata": {},
   "outputs": [],
   "source": [
    "<!DOCTYPE html>\n",
    "<html>\n",
    "   <head>\n",
    "       <meta name=\"viewport\" content=\"width=device-width, initial-scale=1\">\n",
    "        <style>\n",
    "        * {\n",
    "            box-sizing: border-box;\n",
    "        }\n",
    "\n",
    "        /* Create two equal columns that floats next to each other */\n",
    "        .column {\n",
    "            float: left;\n",
    "            width: 50%;\n",
    "            padding: 10px;\n",
    "            height: 500px; /* Should be removed. Only for demonstration */\n",
    "        }\n",
    "\n",
    "        /* Clear floats after the columns */\n",
    "        .row:after {\n",
    "            content: \"\";\n",
    "            display: table;\n",
    "            clear: both;\n",
    "        }\n",
    "        </style>\n",
    "\n",
    "        <title>HW3: The Spelling Correction Suggester!</title>\n",
    "\n",
    "        <script>\n",
    "            function myFunction() {\n",
    "            var x = document.getElementById(\"told_you_so\");\n",
    "            if (x.style.display === \"none\") {\n",
    "                x.style.display = \"block\";\n",
    "            }\n",
    "            else {\n",
    "                x.style.display = \"none\";\n",
    "            }\n",
    "        }\n",
    "        </script>\n",
    "        <script src=\"https://ajax.googleapis.com/ajax/libs/angularjs/1.6.9/angular.min.js\"></script>\n",
    "        <script src=\"checkctl.js\"></script>\n",
    "\n",
    "    </head>\n",
    "\n",
    "    <body>\n",
    "        <div ng-app=\"myApp\" ng-controller=\"myCtrl\" class=\"row\">\n",
    "            <div class=\"column\" style=\"background-color:#aaa;\">\n",
    "                <h1>HW3</h1>\n",
    "                <h2>The Spelling Correction Suggester</h2>\n",
    "                <h3>Brought to you by <i>The Grammar Police</i></h3>\n",
    "                <h3>Our Motto is, \"To correct and serve!\"</h3>\n",
    "                <p>\n",
    "                <img src=\"/images/badge.jpg\" width=\"25%\">\n",
    "                </p>\n",
    "            </div>\n",
    "            <div class=\"column\" style=\"background-color:#bbb;\">\n",
    "                <h1>So you think you can spell?</h1>\n",
    "                <h2 style=\"color: red;\">Game On!</h2>\n",
    "                <br>\n",
    "                Enter a word: <input style=\"width: 250px;\" type=\"text\" ng-model=\"input_word\" name=\"word\"><br>\n",
    "                <button ng-show=\"haveInput()\" ng-click=\"check()\">Check Spelling</button>\n",
    "                <br><br><br>\n",
    "                <div ng-show=\"word_correct\">\n",
    "                    The word is correctly spelled.\n",
    "                    <button ng-click=\"reset_submission()\">OK (Reset)</button>\n",
    "                </div>\n",
    "                <div ng-show=\"haveAnswers&&!show_correction_rsp()\">\n",
    "                    {{ correct_prompt }}\n",
    "                    <br>\n",
    "                    <div ng-show=\"!show_correction_rsp()\">\n",
    "                        <ul>\n",
    "                            <li ng-repeat=\"w in corrected_words\" ng-click=\"chose_word(w)\">{{w}}</li>\n",
    "                        </ul>\n",
    "                        Enter your own correction: <input style=\"width: 250px;\" type=\"text\" ng-model=\"correct_word\" name=\"word\"><br>\n",
    "                        <button ng-click=\"submit_correction()\">Send Choice</button>\n",
    "                        <br><br>\n",
    "                    </div>\n",
    "                </div>\n",
    "                <div ng-show=\"show_correction_rsp()&&(!haveInput())\">\n",
    "                    {{correction_response}}\n",
    "                </div>\n",
    "\n",
    "                <p></p>\n",
    "                <button onclick=\"myFunction()\">What does this button do?</button>\n",
    "                <div id=\"told_you_so\" style=\"display:none;\">\n",
    "                    <p>\n",
    "                    <span style=\"color:red;font-size: 32px;\">\n",
    "                        Told you web apps are in the textbook.\n",
    "                    </span>\n",
    "                </div>\n",
    "            </div>\n",
    "        </div>\n",
    "   </body>\n",
    "</html>"
   ]
  },
  {
   "cell_type": "markdown",
   "metadata": {},
   "source": [
    "__JavaScript Controller__"
   ]
  },
  {
   "cell_type": "code",
   "execution_count": null,
   "metadata": {},
   "outputs": [],
   "source": [
    "var app = angular.module('myApp', []);\n",
    "app.controller('myCtrl', function($scope, $http) {\n",
    "\n",
    "    console.log(\"loaded\");\n",
    "\n",
    "    $scope.input_word = \"\";\n",
    "    $scope.correct_prompt=\"Enter your correction here.\";\n",
    "    $scope.word_correct = false;\n",
    "    $scope.haveAnswers = false;\n",
    "\n",
    "    $scope.haveInput    =   function() {\n",
    "        return $scope.input_word.length;\n",
    "    }\n",
    "\n",
    "    $scope.reset_submission = function() {\n",
    "        $scope.word_correct = false;\n",
    "        $scope.input_word = \"\"\n",
    "    };\n",
    "\n",
    "    $scope.check = function() {\n",
    "        console.log(\"Word to check is  = \", $scope.input_word)\n",
    "\n",
    "        $scope.correction_response = null;\n",
    "\n",
    "        $scope.correct_word = \"\"\n",
    "        $scope.correct_prompt = \"\"\n",
    "\n",
    "        $http.get('http://localhost:5000/api/check?word=' + $scope.input_word).\n",
    "        then(function(response) {\n",
    "            $scope.greeting = response.data;\n",
    "            if (response.data.status == \"CORRECT\") {\n",
    "                $scope.word_correct=true;\n",
    "                console.log(\"The word is correct.\")\n",
    "            }\n",
    "            else {\n",
    "                $scope.word_correct = false;\n",
    "                $scope.haveAnswers=true;\n",
    "                console.log(\"Possible words = \" + JSON.stringify(response.data, null, 2));\n",
    "                $scope.corrected_words = response.data.suggestions;\n",
    "                if ($scope.corrected_words.length > 0) {\n",
    "                    $scope.correct_prompt = \"Click on a word to choose or enter your own correction.\"\n",
    "                }\n",
    "                else {\n",
    "                    $scope.correct_prompt = \"I got nothing. You can enter your own correction.\"\n",
    "                }\n",
    "            }\n",
    "        });\n",
    "\n",
    "    };\n",
    "\n",
    "    $scope.chose_word   =   function(w) {\n",
    "        console.log(\"You chose \" + w);\n",
    "        $scope.correct_word = w;\n",
    "    }\n",
    "\n",
    "    $scope.corrected = function(w) {\n",
    "        console.log(\"You clicked \" + w);\n",
    "        $scope.correct_word = w;\n",
    "        $scope.correct_prompt=null;\n",
    "    };\n",
    "\n",
    "    $scope.submit_correction = function(w) {\n",
    "        console.log($scope.input_word + \" CORRECTION TO \" + $scope.correct_word + \" IS ON THE WAY.\");\n",
    "        data = {\n",
    "            corrected_word : $scope.correct_word,\n",
    "            original_word: $scope.input_word\n",
    "        }\n",
    "        $http.post('http://localhost:5000/api/correct', data).\n",
    "        then(function(response) {\n",
    "            //$scope.correct_prompt = response.data.msg;\n",
    "            //$scope.correct_word = response.data.msg;\n",
    "            $scope.correction_response = response.data.msg;\n",
    "            $scope.input_word = \"\"\n",
    "            $scope.corrected_words = \"\"\n",
    "            $scope.haveAnswers = false;\n",
    "            $scope.$apply()\n",
    "        });\n",
    "    };\n",
    "\n",
    "    $scope.show_correction_rsp  =   function() {\n",
    "        if ($scope.correction_response !== null) {\n",
    "            return true;\n",
    "        }\n",
    "        else {\n",
    "            return false;\n",
    "        }\n",
    "    }\n",
    "    console.log(\"Dude\");\n",
    "});"
   ]
  },
  {
   "cell_type": "markdown",
   "metadata": {},
   "source": []
  },
  {
   "cell_type": "markdown",
   "metadata": {},
   "source": [
    "## Object and Classes\n",
    "\n"
   ]
  },
  {
   "cell_type": "markdown",
   "metadata": {},
   "source": [
    "<img src=\"../images/bumpy.jpg\">"
   ]
  },
  {
   "cell_type": "markdown",
   "metadata": {},
   "source": [
    "### Introduction\n",
    "\n",
    "#### Our First Objects/Classes\n",
    "\n",
    "| <img src=\"../images/oo1.jpeg\"> |\n",
    "| :---: |\n",
    "| __Simple (UML) Class Diagram__ |"
   ]
  },
  {
   "cell_type": "markdown",
   "metadata": {},
   "source": [
    "- Core OO model concepts\n",
    "    - Class, Object\n",
    "    - Attribute\n",
    "    - Method\n",
    "    - Association\n",
    "    - (Interface)\n",
    "    \n",
    "    \n",
    "    \n",
    "- Core concepts:\n",
    "    - Abstraction\n",
    "    - Encapsulation\n",
    "    - Modularity\n",
    "    - Inheritance\n",
    "    - Polymorphism"
   ]
  },
  {
   "cell_type": "code",
   "execution_count": 51,
   "metadata": {},
   "outputs": [],
   "source": [
    "class Person(object):\n",
    "    \"\"\"Base student class for a simulated university application\"\"\"\n",
    "\n",
    "    def __init__(self, uni, last='', first=''):  # initializer\n",
    "        self.first_name = first\n",
    "        self.last_name = last\n",
    "        self.uni = uni\n",
    "\n",
    "        self.email = uni + \"@columbia.edu\"\n",
    "\n",
    "    def __str__(self):  # string representation, e.g. for printing\n",
    "        return \"{} {}, ID:{}, email:{}\".format \\\n",
    "            (self.first_name, self.last_name, self.uni, self.email)\n",
    "\n",
    "    def __eq__(self, other): # Defines equality versus same instance\n",
    "        return self.uni == other.uni\n",
    "    \n",
    "    def get_full_name(self):\n",
    "        return self.first_name + \" \" + self.last_name"
   ]
  },
  {
   "cell_type": "code",
   "execution_count": 52,
   "metadata": {},
   "outputs": [
    {
     "name": "stdout",
     "output_type": "stream",
     "text": [
      "Our first person is =  Regina Brown, ID:rmz1, email:rmz1@columbia.edu\n"
     ]
    },
    {
     "data": {
      "text/plain": [
       "'Regina Brown'"
      ]
     },
     "execution_count": 52,
     "metadata": {},
     "output_type": "execute_result"
    }
   ],
   "source": [
    "p1 = Person(\"rmz1\", \"Brown\", \"Regina\")\n",
    "print(\"Our first person is = \", p)\n",
    "p1.get_full_name()"
   ]
  },
  {
   "cell_type": "code",
   "execution_count": 53,
   "metadata": {},
   "outputs": [],
   "source": [
    "class Faculty(Person):\n",
    "    \"\"\"Faculty, which extends person.\"\"\"\n",
    "\n",
    "    def __init__(self, uni, last='', first='', title='', dept=''):  # initializer\n",
    "        Person.__init__(self, uni, last, first)\n",
    "        self.title = title\n",
    "        self.dept = dept\n",
    "\n",
    "    def __str__(self):  # string representation, e.g. for printing\n",
    "        p1 = Person.__str__(self)\n",
    "        p2 = \"dept: {}, title:{}\".format(self.dept, self.title)\n",
    "        return p1 + \" ,\" + p2\n",
    "\n",
    "    def is_good_teacher(self):\n",
    "        if self.uni == \"dff9\":\n",
    "            return \"Seriously dude? I mean really?\"\n",
    "        elif self.uni == \"jbh2019\":\n",
    "            return \"Definitely! What do you think a professor would say about the dept. chair?\"\n",
    "        else:\n",
    "            return \"Possible. Take the class.\"\n",
    "\n",
    "    def __eq__(self, other):\n",
    "        return Person.__eq__(self, other)"
   ]
  },
  {
   "cell_type": "code",
   "execution_count": 54,
   "metadata": {},
   "outputs": [
    {
     "name": "stdout",
     "output_type": "stream",
     "text": [
      "f1 =  Donald Ferguson, ID:dff9, email:dff9@columbia.edu ,dept: Department of Computer Science, title:Professor of Practice\n",
      "f2 =  Julia Hirschberg, ID:jbh2019, email:jbh2019@columbia.edu ,dept: Department of Computer Science, title:Professor and Chair\n"
     ]
    }
   ],
   "source": [
    "f1 = Faculty(\"dff9\", \"Ferguson\", \"Donald\", \"Professor of Practice\", \"Department of Computer Science\")\n",
    "f2 = Faculty(\"jbh2019\", \"Hirschberg\", \"Julia\", \"Professor and Chair\", \"Department of Computer Science\")\n",
    "\n",
    "print(\"f1 = \", f1)\n",
    "print(\"f2 = \", f2)"
   ]
  },
  {
   "cell_type": "code",
   "execution_count": 55,
   "metadata": {},
   "outputs": [
    {
     "name": "stdout",
     "output_type": "stream",
     "text": [
      "Is good teacher --  dff9 Answer is  Seriously dude? I mean really?\n",
      "Is good teacher --  jbh2019 Answer is  Definitely! What do you think a professor would say about the dept. chair?\n"
     ]
    }
   ],
   "source": [
    "print(\"Is good teacher -- \", f1.uni, \"Answer is \", f1.is_good_teacher())\n",
    "print(\"Is good teacher -- \", f2.uni, \"Answer is \", f2.is_good_teacher())"
   ]
  },
  {
   "cell_type": "code",
   "execution_count": 56,
   "metadata": {},
   "outputs": [],
   "source": [
    "class Student(Person):\n",
    "    \"\"\"Faculty, which extends person.\"\"\"\n",
    "\n",
    "    __valid_years = [2010, 2022]\n",
    "    __valid_school_codes = ['CC', 'BA', 'GS', 'SEAS', 'SIPA', 'GSAS', 'CUMC']\n",
    "\n",
    "    def __init__(self, uni, last='', first='', year='', school=''):  # initializer\n",
    "\n",
    "        m = None\n",
    "        if year < self.__valid_years[0] or year > self.__valid_years[1]:\n",
    "            m = \"Invalid years - must be in range: \" + str(self.__valid_years)\n",
    "        if not school in self.__valid_school_codes:\n",
    "            m = \"Invalid school code: valid values are: \" + str(self.__valid_school_codes)\n",
    "        if m is not None:\n",
    "            raise ValueError(m)\n",
    "        else:\n",
    "            self.school = school\n",
    "            self.year = year\n",
    "            Person.__init__(self, uni, last, first)\n",
    "\n",
    "    def __str__(self):  # string representation, e.g. for printing\n",
    "        p1 = Person.__str__(self)\n",
    "        p2 = \"school code: {}, year:{}\".format(self.school, self.year)\n",
    "        return p1 + \" ,\" + p2\n",
    "\n",
    "\n",
    "    def __eq__(self, other):\n",
    "        return Person.__eq__(self, other)"
   ]
  },
  {
   "cell_type": "code",
   "execution_count": 59,
   "metadata": {},
   "outputs": [
    {
     "name": "stdout",
     "output_type": "stream",
     "text": [
      "s1 =  John Smith, ID:js1234, email:js1234@columbia.edu ,school code: CC, year:2021\n"
     ]
    }
   ],
   "source": [
    "s1 = Student(\"js1234\", \"Smith\", \"John\", 2021, \"CC\")\n",
    "print(\"s1 = \", s1)"
   ]
  },
  {
   "cell_type": "code",
   "execution_count": 60,
   "metadata": {},
   "outputs": [
    {
     "name": "stdout",
     "output_type": "stream",
     "text": [
      "Boom =  Invalid school code: valid values are: ['CC', 'BA', 'GS', 'SEAS', 'SIPA', 'GSAS', 'CUMC']\n",
      "name 's2' is not defined\n"
     ]
    }
   ],
   "source": [
    "try:\n",
    "    s2 = Student(\"jb1111\", \"Burke\", \"James\", 2021, \"XX\")\n",
    "    print(\"s2 = \", s2)\n",
    "except ValueError as ve:\n",
    "    print(\"Boom = \", ve)\n",
    "    \n",
    "try:\n",
    "    print(\"s2 = \", s2)\n",
    "except NameError as ne:\n",
    "    print(ne)"
   ]
  },
  {
   "cell_type": "markdown",
   "metadata": {},
   "source": [
    "#### Discussion: Inheritance, isinstance(), issubclass()\n",
    "\n",
    "- \"What is this Is_A\" and inheritance of which you speak?\n",
    "\n",
    "\n",
    "\"In object-oriented programming, inheritance is when an object or class is based on another object (... ...) or class (class-based inheritance), using the same implementation. Inheritance in most class-based object-oriented languages is a mechanism in which one object acquires all the properties and behaviours of the parent object. Inheritance allows programmers to: create classes that are built upon existing classes,[1] to specify a new implementation to maintain the same behaviour (realizing an interface), to reuse code and to independently extend original software via public classes and interfaces. The relationships of objects or classes through inheritance give rise to a directed graph.\n",
    "\n",
    "An inherited class is called a subclass of its parent class or super class.\"<br>\n",
    "https://en.wikipedia.org/wiki/Inheritance_(object-oriented_programming)"
   ]
  },
  {
   "cell_type": "code",
   "execution_count": 61,
   "metadata": {},
   "outputs": [
    {
     "name": "stdout",
     "output_type": "stream",
     "text": [
      "f1 =  Donald Ferguson, ID:dff9, email:dff9@columbia.edu ,dept: Department of Computer Science, title:Professor of Practice\n",
      "f2 =  Julia Hirschberg, ID:jbh2019, email:jbh2019@columbia.edu ,dept: Department of Computer Science, title:Professor and Chair\n",
      "s1 =  John Smith, ID:js1234, email:js1234@columbia.edu ,school code: CC, year:2021\n",
      "p1 =  Regina Brown, ID:rmz1, email:rmz1@columbia.edu\n"
     ]
    }
   ],
   "source": [
    "print(\"f1 = \", f1)\n",
    "print(\"f2 = \", f2)\n",
    "print(\"s1 = \", s1)\n",
    "print(\"p1 = \", p1)"
   ]
  },
  {
   "cell_type": "code",
   "execution_count": 62,
   "metadata": {},
   "outputs": [
    {
     "name": "stdout",
     "output_type": "stream",
     "text": [
      "p1 is a Person\n",
      "p1 is not a student\n"
     ]
    }
   ],
   "source": [
    "if isinstance(p1, Person):\n",
    "    print(\"p1 is a Person\")\n",
    "if isinstance(p1, Student):\n",
    "    print(\"p1 is a student\")\n",
    "else:\n",
    "    print(\"p1 is not a student\")"
   ]
  },
  {
   "cell_type": "code",
   "execution_count": 63,
   "metadata": {},
   "outputs": [
    {
     "name": "stdout",
     "output_type": "stream",
     "text": [
      "s1 is a Person\n",
      "s1 is a student\n"
     ]
    }
   ],
   "source": [
    "if isinstance(s1, Person):\n",
    "    print(\"s1 is a Person\")\n",
    "    \n",
    "if isinstance(s1, Student):\n",
    "    print(\"s1 is a student\")\n",
    "else:\n",
    "    print(\"s1 is not a student\")"
   ]
  },
  {
   "cell_type": "code",
   "execution_count": 23,
   "metadata": {},
   "outputs": [
    {
     "name": "stdout",
     "output_type": "stream",
     "text": [
      "f1 is a Person\n",
      "f1 is not a student\n",
      "f1 is a Faculty\n"
     ]
    }
   ],
   "source": [
    "if isinstance(f1, Person):\n",
    "    print(\"f1 is a Person\")\n",
    "    \n",
    "if isinstance(f1, Student):\n",
    "    print(\"f1 is a student\")\n",
    "else:\n",
    "    print(\"f1 is not a student\")\n",
    "    \n",
    "if isinstance(f1, Faculty):\n",
    "    print(\"f1 is a Faculty\")\n",
    "else:\n",
    "    print(\"f1 is not a Faculty\")"
   ]
  },
  {
   "cell_type": "markdown",
   "metadata": {},
   "source": [
    "- This show the Is_A relationship for the classes.\n",
    "\n",
    "\n",
    "- A couple more examples."
   ]
  },
  {
   "cell_type": "code",
   "execution_count": 64,
   "metadata": {},
   "outputs": [
    {
     "name": "stdout",
     "output_type": "stream",
     "text": [
      "issubclass(Faculty, Person) =  True\n",
      "issubclass(type(f1), type(p1)) =  True\n",
      "<class '__main__.Faculty'>\n",
      "<class '__main__.Person'>\n"
     ]
    }
   ],
   "source": [
    "print(\"issubclass(Faculty, Person) = \", issubclass(Faculty, Person))\n",
    "print(\"issubclass(type(f1), type(p1)) = \", issubclass(type(f1), type(p1)))\n",
    "print(type(f1))\n",
    "print(type(p1))"
   ]
  },
  {
   "cell_type": "markdown",
   "metadata": {},
   "source": [
    "#### Discussion: Inheritance of Implementation\n",
    "\n",
    "- Note:\n",
    "    - Person has a method get_full_name() and attributes first_name and last_name.\n",
    "    - Faculty and Student do not explicitly have the method or the attributes.\n",
    "    - Faculty and Student __inherit__ the attributes and method.\n",
    "    "
   ]
  },
  {
   "cell_type": "code",
   "execution_count": 65,
   "metadata": {},
   "outputs": [
    {
     "data": {
      "text/plain": [
       "'Donald Ferguson'"
      ]
     },
     "execution_count": 65,
     "metadata": {},
     "output_type": "execute_result"
    }
   ],
   "source": [
    "f1.get_full_name()"
   ]
  },
  {
   "cell_type": "code",
   "execution_count": 66,
   "metadata": {},
   "outputs": [
    {
     "data": {
      "text/plain": [
       "'Donald'"
      ]
     },
     "execution_count": 66,
     "metadata": {},
     "output_type": "execute_result"
    }
   ],
   "source": [
    "f1.first_name"
   ]
  },
  {
   "cell_type": "code",
   "execution_count": 67,
   "metadata": {},
   "outputs": [
    {
     "data": {
      "text/plain": [
       "'John Smith'"
      ]
     },
     "execution_count": 67,
     "metadata": {},
     "output_type": "execute_result"
    }
   ],
   "source": [
    "s1.get_full_name()"
   ]
  },
  {
   "cell_type": "markdown",
   "metadata": {},
   "source": [
    "### From the Textbook\n",
    "\n",
    "<img src=\"../images/chapter11/Slide04.jpg\">\n",
    "<img src=\"../images/chapter11/Slide05.jpg\">\n",
    "<img src=\"../images/chapter11/Slide06.jpg\">\n",
    "<img src=\"../images/chapter11/Slide07.jpg\">\n",
    "<img src=\"../images/chapter11/Slide08.jpg\">\n",
    "<img src=\"../images/chapter11/Slide09.jpg\">\n",
    "<img src=\"../images/chapter11/Slide10.jpg\">"
   ]
  },
  {
   "cell_type": "markdown",
   "metadata": {},
   "source": [
    "<img src=\"../images/chapter11/Slide11.jpg\">\n",
    "<img src=\"../images/chapter11/Slide12.jpg\">\n",
    "<img src=\"../images/chapter11/Slide13.jpg\">\n",
    "<img src=\"../images/chapter11/Slide14.jpg\">\n",
    "<img src=\"../images/chapter11/Slide15.jpg\">"
   ]
  },
  {
   "cell_type": "markdown",
   "metadata": {},
   "source": [
    "<img src=\"../images/chapter11/Slide17.jpg\">\n",
    "<img src=\"../images/chapter11/Slide18.jpg\">\n",
    "<img src=\"../images/chapter11/Slide19.jpg\">\n",
    "<img src=\"../images/chapter11/Slide20.jpg\">"
   ]
  },
  {
   "cell_type": "markdown",
   "metadata": {},
   "source": [
    "<img src=\"../images/chapter11/Slide21.jpg\">\n",
    "<img src=\"../images/chapter11/Slide22.jpg\">\n",
    "<img src=\"../images/chapter11/Slide23.jpg\">\n",
    "<img src=\"../images/chapter11/Slide24.jpg\">\n",
    "<img src=\"../images/chapter11/Slide25.jpg\">\n",
    "<img src=\"../images/chapter11/Slide26.jpg\">"
   ]
  },
  {
   "cell_type": "markdown",
   "metadata": {},
   "source": [
    "### Instance and Equality\n",
    "\n",
    "- There is a difference between being\n",
    "    - The same instance.\n",
    "    - Equal, from an application perspective."
   ]
  },
  {
   "cell_type": "code",
   "execution_count": 68,
   "metadata": {},
   "outputs": [],
   "source": [
    "f1 = Faculty(\"dff9\", \"Ferguson\", \"Donald\", \"Comp. Sci.\", \"Professor of Practice\")\n",
    "f2 = Faculty(\"dff9\", \"Ferguson\", \"Donald\", \"Comp. Sci.\", \"Professor of Practice\")"
   ]
  },
  {
   "cell_type": "code",
   "execution_count": 69,
   "metadata": {},
   "outputs": [
    {
     "name": "stdout",
     "output_type": "stream",
     "text": [
      "They are equal.\n"
     ]
    }
   ],
   "source": [
    "if f1 == f2:\n",
    "    print(\"They are equal.\")\n",
    "else:\n",
    "    print(\"They are not equal.\")"
   ]
  },
  {
   "cell_type": "markdown",
   "metadata": {},
   "source": [
    "- The objects are two different _instances_ that happen to have the same data.\n",
    "\n",
    "\n",
    "- The application may _redefine equality_ to implement correct semantics."
   ]
  },
  {
   "cell_type": "code",
   "execution_count": 39,
   "metadata": {},
   "outputs": [
    {
     "data": {
      "text/plain": [
       "False"
      ]
     },
     "execution_count": 39,
     "metadata": {},
     "output_type": "execute_result"
    }
   ],
   "source": [
    "f1 is f2"
   ]
  },
  {
   "cell_type": "code",
   "execution_count": 40,
   "metadata": {},
   "outputs": [
    {
     "data": {
      "text/plain": [
       "True"
      ]
     },
     "execution_count": 40,
     "metadata": {},
     "output_type": "execute_result"
    }
   ],
   "source": [
    "f1 is f1"
   ]
  },
  {
   "cell_type": "code",
   "execution_count": 41,
   "metadata": {},
   "outputs": [
    {
     "data": {
      "text/plain": [
       "True"
      ]
     },
     "execution_count": 41,
     "metadata": {},
     "output_type": "execute_result"
    }
   ],
   "source": [
    "x = f2\n",
    "x is f2"
   ]
  },
  {
   "cell_type": "code",
   "execution_count": 43,
   "metadata": {},
   "outputs": [
    {
     "name": "stdout",
     "output_type": "stream",
     "text": [
      "id(x) =  4404153984\n",
      "id(f1) =  4404153928\n",
      "id(f2) =  4404153984\n"
     ]
    }
   ],
   "source": [
    "print(\"id(x) = \", id(x))\n",
    "print(\"id(f1) = \", id(f1))\n",
    "print(\"id(f2) = \", id(f2))"
   ]
  },
  {
   "cell_type": "code",
   "execution_count": 44,
   "metadata": {},
   "outputs": [
    {
     "data": {
      "text/plain": [
       "4360218672"
      ]
     },
     "execution_count": 44,
     "metadata": {},
     "output_type": "execute_result"
    }
   ],
   "source": [
    "id(1)"
   ]
  },
  {
   "cell_type": "code",
   "execution_count": 45,
   "metadata": {},
   "outputs": [
    {
     "data": {
      "text/plain": [
       "4359837600"
      ]
     },
     "execution_count": 45,
     "metadata": {},
     "output_type": "execute_result"
    }
   ],
   "source": [
    "id(True)"
   ]
  },
  {
   "cell_type": "code",
   "execution_count": 46,
   "metadata": {},
   "outputs": [
    {
     "data": {
      "text/plain": [
       "True"
      ]
     },
     "execution_count": 46,
     "metadata": {},
     "output_type": "execute_result"
    }
   ],
   "source": [
    "1 == True"
   ]
  },
  {
   "cell_type": "code",
   "execution_count": 47,
   "metadata": {},
   "outputs": [
    {
     "data": {
      "text/plain": [
       "False"
      ]
     },
     "execution_count": 47,
     "metadata": {},
     "output_type": "execute_result"
    }
   ],
   "source": [
    "1 is True"
   ]
  },
  {
   "cell_type": "markdown",
   "metadata": {},
   "source": [
    "- ```==``` and ```is```\n",
    "    - ```==``` tests if the two objects are effectively the same value from an application's perspective. Are they equivalent, even if not the same instance.\n",
    "    - ```is``` tests if the two objects are the same _instance._\n",
    "    \n",
    "    \n",
    "- How can you get two different object instances with data this is effectively the same? Surprisingly many ways."
   ]
  },
  {
   "cell_type": "code",
   "execution_count": 70,
   "metadata": {},
   "outputs": [
    {
     "data": {
      "text/plain": [
       "4343799064"
      ]
     },
     "execution_count": 70,
     "metadata": {},
     "output_type": "execute_result"
    }
   ],
   "source": [
    "id(\"2\")"
   ]
  },
  {
   "cell_type": "code",
   "execution_count": 74,
   "metadata": {},
   "outputs": [
    {
     "name": "stdout",
     "output_type": "stream",
     "text": [
      "x =  2\n"
     ]
    },
    {
     "data": {
      "text/plain": [
       "4384173896"
      ]
     },
     "execution_count": 74,
     "metadata": {},
     "output_type": "execute_result"
    }
   ],
   "source": [
    "x = str(2)\n",
    "print(\"x = \", x)\n",
    "id(x)"
   ]
  },
  {
   "cell_type": "code",
   "execution_count": 75,
   "metadata": {},
   "outputs": [
    {
     "data": {
      "text/plain": [
       "True"
      ]
     },
     "execution_count": 75,
     "metadata": {},
     "output_type": "execute_result"
    }
   ],
   "source": [
    "x == \"2\""
   ]
  },
  {
   "cell_type": "code",
   "execution_count": 76,
   "metadata": {},
   "outputs": [
    {
     "data": {
      "text/plain": [
       "False"
      ]
     },
     "execution_count": 76,
     "metadata": {},
     "output_type": "execute_result"
    }
   ],
   "source": [
    "x is \"2\""
   ]
  },
  {
   "cell_type": "markdown",
   "metadata": {},
   "source": [
    "- This is a trivial example, but the issue occurs frequently in more complex applications."
   ]
  },
  {
   "cell_type": "code",
   "execution_count": null,
   "metadata": {},
   "outputs": [],
   "source": []
  }
 ],
 "metadata": {
  "kernelspec": {
   "display_name": "Python 3",
   "language": "python",
   "name": "python3"
  },
  "language_info": {
   "codemirror_mode": {
    "name": "ipython",
    "version": 3
   },
   "file_extension": ".py",
   "mimetype": "text/x-python",
   "name": "python",
   "nbconvert_exporter": "python",
   "pygments_lexer": "ipython3",
   "version": "3.6.3"
  },
  "toc": {
   "nav_menu": {},
   "number_sections": true,
   "sideBar": true,
   "skip_h1_title": false,
   "title_cell": "Table of Contents",
   "title_sidebar": "Contents",
   "toc_cell": false,
   "toc_position": {},
   "toc_section_display": true,
   "toc_window_display": false
  }
 },
 "nbformat": 4,
 "nbformat_minor": 2
}
