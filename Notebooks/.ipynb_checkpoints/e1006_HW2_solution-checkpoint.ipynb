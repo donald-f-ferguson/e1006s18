{
 "cells": [
  {
   "cell_type": "markdown",
   "metadata": {},
   "source": [
    "# Homework 2: Sample Solution"
   ]
  },
  {
   "cell_type": "markdown",
   "metadata": {},
   "source": [
    "## Homework Definition\n",
    "\n",
    "- Task 1: Write a Python function that reads data from a file using get_data_from_file(ticker) and returns:\n",
    "    - Mu (the average, relative daily Adj Close change). The spreadsheets have the formula.\n",
    "    - Sigma -- The standard deviation of Mu. The spreadsheets have the formula.\n",
    "    - There are libraries that will compute these values. Do not use the libraries. Translate the formulas in the speadsheet into Python code (loops, expressions, etc).\n",
    "\n",
    "\n",
    "- Task 2: Simulate daily return - Write a function of the form: random_daily_return(s, mu, sigma).\n",
    "    - The function computes the new daily stock price. This is the previous price S plus a random element. The formula for the random element is\n",
    "    - delta = (s times mu) + (s times sigma times R).\n",
    "    - You can import the package numpy as np. Use np.random.normal(0,1) to compute R. Compute R inside the function. (You can use numpy random normal if you want).\n",
    "    - The new stock price you return is the input parameter s plus delta.\n",
    "\n",
    "\n",
    "- Task 3: Create a function to produce the ramdom walk simulating a trading year. Call this random_stock_year.\n",
    "    - There are 252 trading days in a year.\n",
    "    - Build an return a list with 252 elements. Each element is the return value of a new call to random_daily_return. That is, you will call random_daily_return 252 times.\n",
    "    - Return the list.\n",
    "\n",
    "\n",
    "\n",
    "- Task 4: Main program.\n",
    "    - imports\n",
    "        - numpy as np\n",
    "        - import math (to get sqrt)\n",
    "        - import matplotlib.pyplot as plt\n",
    "    - Parse command line arguments to input a ticker symbol and the number of simulation to execute. There is an example in the Mony Hall simulation that we covered in lectures. You will have to make minor modifications.\n",
    "    - Validate the input and print an error message if it is invalid. The rules are:\n",
    "        - The ticker symbol is in the list ['AAPL', 'GOOG', 'AMZN']. \n",
    "        - The number of simulations must be greater than 0.\n",
    "        - Loop for the number of requested simulations. The loop should call\n",
    "            - l = random_stock_year\n",
    "            - plt.plot(l)\n",
    "        - After the loop completes, call plt.show()."
   ]
  },
  {
   "cell_type": "markdown",
   "metadata": {},
   "source": [
    "## Overall Structure\n",
    "\n",
    "- I did not expect you to follow the model.\n",
    "\n",
    "\n",
    "- This is FYI and for discussion.\n",
    "\n",
    "\n",
    "- I implement 4 Python files:\n",
    "    - General functions useful for simulations and general.\n",
    "    - Function specific to the Monte Carlo Stock function.\n",
    "    - Main program to setup and run simulations.\n",
    "    - Unit tests for building the various functions.\n",
    "    \n",
    "    \n",
    "| <img src=\"../images/hw2_components.jpeg\"> |\n",
    "| :---: |\n",
    "| __HW2 Simple [UML Component Diagram](https://www.uml-diagrams.org/component-diagrams.html)__ |"
   ]
  },
  {
   "cell_type": "markdown",
   "metadata": {},
   "source": [
    "## Task 1\n",
    "\n",
    "### Get Data From File\n",
    "\n"
   ]
  },
  {
   "cell_type": "code",
   "execution_count": 4,
   "metadata": {},
   "outputs": [],
   "source": [
    "'''\n",
    "This is in the general  utilities file/module.\n",
    "'''\n",
    "import math\n",
    "import pandas as pd\n",
    "import numpy as np\n",
    "\n",
    "\n",
    "def get_data_from_file(f_name):\n",
    "    '''\n",
    "    We had not yet covered exceptions, etc. Also, I gave you a function like this. I just modified\n",
    "    :param f_name:\n",
    "    :return:\n",
    "    '''\n",
    "    r = pd.read_csv(f_name, delimiter=\",\")\n",
    "    return r\n"
   ]
  },
  {
   "cell_type": "code",
   "execution_count": 7,
   "metadata": {},
   "outputs": [
    {
     "name": "stdout",
     "output_type": "stream",
     "text": [
      "Result = \n",
      "           Date        Open        High         Low       Close   Adj Close  \\\n",
      "17  2018-01-26  172.000000  172.000000  170.059998  171.509995  171.509995   \n",
      "18  2018-01-29  170.160004  170.160004  167.070007  167.960007  167.960007   \n",
      "19  2018-01-30  165.529999  167.369995  164.699997  166.970001  166.970001   \n",
      "20  2018-01-31  166.869995  168.440002  166.500000  167.429993  167.429993   \n",
      "21  2018-02-01  167.169998  168.619995  166.759995  167.779999  167.779999   \n",
      "\n",
      "      Volume  \n",
      "17  39143000  \n",
      "18  50640400  \n",
      "19  46048200  \n",
      "20  32478900  \n",
      "21  38428800  \n"
     ]
    }
   ],
   "source": [
    "'''\n",
    "This is in the unit test file/module.\n",
    "'''\n",
    "def unit_test_get_data_from_file():\n",
    "    fn = \"AAPL.csv\"\n",
    "    result = get_data_from_file(fn)\n",
    "    print(\"Result = \\n\", result.tail(5))\n",
    "    \n",
    "    \n",
    "def run_unit_tests():\n",
    "    unit_test_get_data_from_file()\n",
    "    \n",
    "    \n",
    "run_unit_tests()"
   ]
  },
  {
   "cell_type": "markdown",
   "metadata": {},
   "source": [
    "- Look at a subset of the data.\n",
    "\n",
    "\n",
    "- Visually verify correctness."
   ]
  },
  {
   "cell_type": "markdown",
   "metadata": {},
   "source": [
    "### Get Data From Ticker\n"
   ]
  },
  {
   "cell_type": "code",
   "execution_count": null,
   "metadata": {},
   "outputs": [],
   "source": []
  }
 ],
 "metadata": {
  "kernelspec": {
   "display_name": "Python 3",
   "language": "python",
   "name": "python3"
  },
  "language_info": {
   "codemirror_mode": {
    "name": "ipython",
    "version": 3
   },
   "file_extension": ".py",
   "mimetype": "text/x-python",
   "name": "python",
   "nbconvert_exporter": "python",
   "pygments_lexer": "ipython3",
   "version": "3.6.3"
  },
  "toc": {
   "nav_menu": {},
   "number_sections": true,
   "sideBar": true,
   "skip_h1_title": false,
   "title_cell": "Table of Contents",
   "title_sidebar": "Contents",
   "toc_cell": false,
   "toc_position": {},
   "toc_section_display": true,
   "toc_window_display": false
  }
 },
 "nbformat": 4,
 "nbformat_minor": 2
}
